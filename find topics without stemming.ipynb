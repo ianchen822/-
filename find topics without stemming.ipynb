{
 "cells": [
  {
   "cell_type": "markdown",
   "id": "e727eec7",
   "metadata": {},
   "source": [
    "# 讀取評論資料和欄位處理"
   ]
  },
  {
   "cell_type": "code",
   "execution_count": 1,
   "id": "1e6de71e",
   "metadata": {},
   "outputs": [],
   "source": [
    "# read json file\n",
    "\n",
    "import json\n",
    "import pandas as pd\n",
    "\n",
    "with open('./Employee Review about their organization.json') as file:\n",
    "    contents = file.read()\n",
    "    contents = eval(contents)\n",
    "    \n",
    "df_list = []\n",
    "for i in range(len(contents)):\n",
    "    row_list = []\n",
    "    row = contents[i]\n",
    "    row_list.append(row[\"ReviewTitle\"])\n",
    "    row_list.append(row[\"CompleteReview\"])\n",
    "    row_list.append(row[\"URL\"])\n",
    "    row_list.append(row[\"Rating\"])\n",
    "    row_list.append(row[\"ReviewDetails\"])\n",
    "    df_list.append(row_list)\n",
    "    \n",
    "df = pd.DataFrame(data = df_list, columns = ['ReviewTitle', 'CompleteReview', 'URL', 'Rating', 'ReviewDetails'])"
   ]
  },
  {
   "cell_type": "code",
   "execution_count": 2,
   "id": "f1c9ba8a",
   "metadata": {},
   "outputs": [
    {
     "data": {
      "text/html": [
       "<div>\n",
       "<style scoped>\n",
       "    .dataframe tbody tr th:only-of-type {\n",
       "        vertical-align: middle;\n",
       "    }\n",
       "\n",
       "    .dataframe tbody tr th {\n",
       "        vertical-align: top;\n",
       "    }\n",
       "\n",
       "    .dataframe thead th {\n",
       "        text-align: right;\n",
       "    }\n",
       "</style>\n",
       "<table border=\"1\" class=\"dataframe\">\n",
       "  <thead>\n",
       "    <tr style=\"text-align: right;\">\n",
       "      <th></th>\n",
       "      <th>ReviewTitle</th>\n",
       "      <th>CompleteReview</th>\n",
       "      <th>Company</th>\n",
       "      <th>isCurrentEmployee</th>\n",
       "      <th>Rating</th>\n",
       "    </tr>\n",
       "  </thead>\n",
       "  <tbody>\n",
       "    <tr>\n",
       "      <th>0</th>\n",
       "      <td>Productive</td>\n",
       "      <td>Good company, cool workplace, work load little...</td>\n",
       "      <td>Reliance-Industries-Ltd</td>\n",
       "      <td>1</td>\n",
       "      <td>3.0</td>\n",
       "    </tr>\n",
       "    <tr>\n",
       "      <th>1</th>\n",
       "      <td>Stressful</td>\n",
       "      <td>1. Need to work on boss's whims and fancies 2....</td>\n",
       "      <td>Reliance-Industries-Ltd</td>\n",
       "      <td>0</td>\n",
       "      <td>3.0</td>\n",
       "    </tr>\n",
       "    <tr>\n",
       "      <th>2</th>\n",
       "      <td>Good Company for Every employee</td>\n",
       "      <td>Good company for every Engineers dream, Full M...</td>\n",
       "      <td>Reliance-Industries-Ltd</td>\n",
       "      <td>0</td>\n",
       "      <td>5.0</td>\n",
       "    </tr>\n",
       "    <tr>\n",
       "      <th>3</th>\n",
       "      <td>Productive</td>\n",
       "      <td>I am just pass out bsc in chemistry Typical da...</td>\n",
       "      <td>Reliance-Industries-Ltd</td>\n",
       "      <td>1</td>\n",
       "      <td>5.0</td>\n",
       "    </tr>\n",
       "    <tr>\n",
       "      <th>4</th>\n",
       "      <td>Non productive</td>\n",
       "      <td>Not so fun at work just blame games  Target pe...</td>\n",
       "      <td>Reliance-Industries-Ltd</td>\n",
       "      <td>0</td>\n",
       "      <td>1.0</td>\n",
       "    </tr>\n",
       "  </tbody>\n",
       "</table>\n",
       "</div>"
      ],
      "text/plain": [
       "                       ReviewTitle  \\\n",
       "0                       Productive   \n",
       "1                        Stressful   \n",
       "2  Good Company for Every employee   \n",
       "3                       Productive   \n",
       "4                   Non productive   \n",
       "\n",
       "                                      CompleteReview                  Company  \\\n",
       "0  Good company, cool workplace, work load little...  Reliance-Industries-Ltd   \n",
       "1  1. Need to work on boss's whims and fancies 2....  Reliance-Industries-Ltd   \n",
       "2  Good company for every Engineers dream, Full M...  Reliance-Industries-Ltd   \n",
       "3  I am just pass out bsc in chemistry Typical da...  Reliance-Industries-Ltd   \n",
       "4  Not so fun at work just blame games  Target pe...  Reliance-Industries-Ltd   \n",
       "\n",
       "   isCurrentEmployee Rating  \n",
       "0                  1    3.0  \n",
       "1                  0    3.0  \n",
       "2                  0    5.0  \n",
       "3                  1    5.0  \n",
       "4                  0    1.0  "
      ]
     },
     "execution_count": 2,
     "metadata": {},
     "output_type": "execute_result"
    }
   ],
   "source": [
    "# 欄位處理\n",
    "\n",
    "df['Company'] = df.URL.str.split('/')[:].str[4]\n",
    "df['isCurrentEmployee'] = df.ReviewDetails.apply(lambda x: 0 if 'Former Employee' in x else 1)\n",
    "rating = df.pop('Rating')\n",
    "df['Rating'] = rating\n",
    "df.drop(columns = ['URL', 'ReviewDetails'], inplace = True)\n",
    "df.head()"
   ]
  },
  {
   "cell_type": "code",
   "execution_count": 3,
   "id": "12c3b528",
   "metadata": {},
   "outputs": [
    {
     "data": {
      "text/plain": [
       "145209"
      ]
     },
     "execution_count": 3,
     "metadata": {},
     "output_type": "execute_result"
    }
   ],
   "source": [
    "# 有 14 多萬筆評論\n",
    "len(df)"
   ]
  },
  {
   "cell_type": "code",
   "execution_count": 4,
   "id": "eb2e4385",
   "metadata": {},
   "outputs": [
    {
     "data": {
      "text/plain": [
       "4.053660585776364"
      ]
     },
     "execution_count": 4,
     "metadata": {},
     "output_type": "execute_result"
    }
   ],
   "source": [
    "df['Rating'] = df['Rating'].astype(float)\n",
    "df['Rating'].mean()"
   ]
  },
  {
   "cell_type": "code",
   "execution_count": 5,
   "id": "01c91cf8",
   "metadata": {},
   "outputs": [
    {
     "name": "stderr",
     "output_type": "stream",
     "text": [
      "C:\\Users\\ChenPoYen\\anaconda3\\lib\\site-packages\\pandas\\core\\indexing.py:1732: SettingWithCopyWarning: \n",
      "A value is trying to be set on a copy of a slice from a DataFrame\n",
      "\n",
      "See the caveats in the documentation: https://pandas.pydata.org/pandas-docs/stable/user_guide/indexing.html#returning-a-view-versus-a-copy\n",
      "  self._setitem_single_block(indexer, value, name)\n"
     ]
    }
   ],
   "source": [
    "mean = df['Rating'].mean()\n",
    "df['Rating'].iloc[df['Rating'] < mean] = 0\n",
    "df['Rating'].iloc[df['Rating'] >= mean] = 1"
   ]
  },
  {
   "cell_type": "code",
   "execution_count": 6,
   "id": "52347b6f",
   "metadata": {},
   "outputs": [
    {
     "data": {
      "text/plain": [
       "0         0.0\n",
       "1         0.0\n",
       "2         1.0\n",
       "3         1.0\n",
       "4         0.0\n",
       "         ... \n",
       "145204    0.0\n",
       "145205    0.0\n",
       "145206    0.0\n",
       "145207    0.0\n",
       "145208    1.0\n",
       "Name: Rating, Length: 145209, dtype: float64"
      ]
     },
     "execution_count": 6,
     "metadata": {},
     "output_type": "execute_result"
    }
   ],
   "source": [
    "df['Rating']"
   ]
  },
  {
   "cell_type": "code",
   "execution_count": 7,
   "id": "7e7da13e",
   "metadata": {},
   "outputs": [],
   "source": [
    "from sklearn.model_selection import train_test_split\n",
    "X = df.iloc[:, :-1]\n",
    "y = df.iloc[:, -1]\n",
    "\n",
    "#先抽 1 %\n",
    "X_other, X_train, y_other, y_train = train_test_split(X, y, test_size = 0.01, random_state = 8, stratify = y)"
   ]
  },
  {
   "cell_type": "code",
   "execution_count": 8,
   "id": "21447fb4",
   "metadata": {},
   "outputs": [
    {
     "data": {
      "text/plain": [
       "1453"
      ]
     },
     "execution_count": 8,
     "metadata": {},
     "output_type": "execute_result"
    }
   ],
   "source": [
    "len(X_train)"
   ]
  },
  {
   "cell_type": "code",
   "execution_count": 9,
   "id": "74f58738",
   "metadata": {},
   "outputs": [
    {
     "data": {
      "text/html": [
       "<div>\n",
       "<style scoped>\n",
       "    .dataframe tbody tr th:only-of-type {\n",
       "        vertical-align: middle;\n",
       "    }\n",
       "\n",
       "    .dataframe tbody tr th {\n",
       "        vertical-align: top;\n",
       "    }\n",
       "\n",
       "    .dataframe thead th {\n",
       "        text-align: right;\n",
       "    }\n",
       "</style>\n",
       "<table border=\"1\" class=\"dataframe\">\n",
       "  <thead>\n",
       "    <tr style=\"text-align: right;\">\n",
       "      <th></th>\n",
       "      <th>ReviewTitle</th>\n",
       "      <th>CompleteReview</th>\n",
       "      <th>Company</th>\n",
       "      <th>isCurrentEmployee</th>\n",
       "      <th>id</th>\n",
       "    </tr>\n",
       "  </thead>\n",
       "  <tbody>\n",
       "    <tr>\n",
       "      <th>8807</th>\n",
       "      <td>Fun Place to work and show case your skills</td>\n",
       "      <td>It's one of the best startups to work with !!\\...</td>\n",
       "      <td>Ride.swiggy</td>\n",
       "      <td>1</td>\n",
       "      <td>8807</td>\n",
       "    </tr>\n",
       "    <tr>\n",
       "      <th>96887</th>\n",
       "      <td>Good Experience</td>\n",
       "      <td>I had a great experience working in IBM. Got e...</td>\n",
       "      <td>IBM</td>\n",
       "      <td>0</td>\n",
       "      <td>96887</td>\n",
       "    </tr>\n",
       "    <tr>\n",
       "      <th>65942</th>\n",
       "      <td>working profile</td>\n",
       "      <td>Pros\\r Excellent work - life balance.\\r Great ...</td>\n",
       "      <td>Wells-Fargo</td>\n",
       "      <td>1</td>\n",
       "      <td>65942</td>\n",
       "    </tr>\n",
       "    <tr>\n",
       "      <th>77935</th>\n",
       "      <td>fun to work</td>\n",
       "      <td>generating the leads\\r learned how to deal wit...</td>\n",
       "      <td>Kotak-Mahindra-Bank</td>\n",
       "      <td>0</td>\n",
       "      <td>77935</td>\n",
       "    </tr>\n",
       "    <tr>\n",
       "      <th>88788</th>\n",
       "      <td>Kinda ok kinda not</td>\n",
       "      <td>Depends greatly on the team you go to.\\r If yo...</td>\n",
       "      <td>Amazon.com</td>\n",
       "      <td>0</td>\n",
       "      <td>88788</td>\n",
       "    </tr>\n",
       "    <tr>\n",
       "      <th>...</th>\n",
       "      <td>...</td>\n",
       "      <td>...</td>\n",
       "      <td>...</td>\n",
       "      <td>...</td>\n",
       "      <td>...</td>\n",
       "    </tr>\n",
       "    <tr>\n",
       "      <th>27259</th>\n",
       "      <td>Working atmosphere and usage of modern technol...</td>\n",
       "      <td>Reliance industries is well equipped with mode...</td>\n",
       "      <td>Reliance-Industries-Ltd</td>\n",
       "      <td>0</td>\n",
       "      <td>27259</td>\n",
       "    </tr>\n",
       "    <tr>\n",
       "      <th>129899</th>\n",
       "      <td>Nice company to start your career</td>\n",
       "      <td>This company not only helped in learning but p...</td>\n",
       "      <td>Accenture</td>\n",
       "      <td>1</td>\n",
       "      <td>129899</td>\n",
       "    </tr>\n",
       "    <tr>\n",
       "      <th>120979</th>\n",
       "      <td>Good Organization</td>\n",
       "      <td>IBM is a very good organization. It is built i...</td>\n",
       "      <td>IBM</td>\n",
       "      <td>0</td>\n",
       "      <td>120979</td>\n",
       "    </tr>\n",
       "    <tr>\n",
       "      <th>142370</th>\n",
       "      <td>Fun-filled working environment with plenty of ...</td>\n",
       "      <td>A typical day at TCS used to be like going to ...</td>\n",
       "      <td>Tata-Consultancy-Services-(tcs)</td>\n",
       "      <td>0</td>\n",
       "      <td>142370</td>\n",
       "    </tr>\n",
       "    <tr>\n",
       "      <th>23390</th>\n",
       "      <td>Good</td>\n",
       "      <td>Good company to work, learn lots of things abo...</td>\n",
       "      <td>Nokia</td>\n",
       "      <td>0</td>\n",
       "      <td>23390</td>\n",
       "    </tr>\n",
       "  </tbody>\n",
       "</table>\n",
       "<p>1453 rows × 5 columns</p>\n",
       "</div>"
      ],
      "text/plain": [
       "                                              ReviewTitle  \\\n",
       "8807          Fun Place to work and show case your skills   \n",
       "96887                                     Good Experience   \n",
       "65942                                     working profile   \n",
       "77935                                         fun to work   \n",
       "88788                                  Kinda ok kinda not   \n",
       "...                                                   ...   \n",
       "27259   Working atmosphere and usage of modern technol...   \n",
       "129899                  Nice company to start your career   \n",
       "120979                                  Good Organization   \n",
       "142370  Fun-filled working environment with plenty of ...   \n",
       "23390                                                Good   \n",
       "\n",
       "                                           CompleteReview  \\\n",
       "8807    It's one of the best startups to work with !!\\...   \n",
       "96887   I had a great experience working in IBM. Got e...   \n",
       "65942   Pros\\r Excellent work - life balance.\\r Great ...   \n",
       "77935   generating the leads\\r learned how to deal wit...   \n",
       "88788   Depends greatly on the team you go to.\\r If yo...   \n",
       "...                                                   ...   \n",
       "27259   Reliance industries is well equipped with mode...   \n",
       "129899  This company not only helped in learning but p...   \n",
       "120979  IBM is a very good organization. It is built i...   \n",
       "142370  A typical day at TCS used to be like going to ...   \n",
       "23390   Good company to work, learn lots of things abo...   \n",
       "\n",
       "                                Company  isCurrentEmployee      id  \n",
       "8807                        Ride.swiggy                  1    8807  \n",
       "96887                               IBM                  0   96887  \n",
       "65942                       Wells-Fargo                  1   65942  \n",
       "77935               Kotak-Mahindra-Bank                  0   77935  \n",
       "88788                        Amazon.com                  0   88788  \n",
       "...                                 ...                ...     ...  \n",
       "27259           Reliance-Industries-Ltd                  0   27259  \n",
       "129899                        Accenture                  1  129899  \n",
       "120979                              IBM                  0  120979  \n",
       "142370  Tata-Consultancy-Services-(tcs)                  0  142370  \n",
       "23390                             Nokia                  0   23390  \n",
       "\n",
       "[1453 rows x 5 columns]"
      ]
     },
     "execution_count": 9,
     "metadata": {},
     "output_type": "execute_result"
    }
   ],
   "source": [
    "X_train['id'] = X_train.index\n",
    "X_train"
   ]
  },
  {
   "cell_type": "markdown",
   "id": "9de3233d",
   "metadata": {},
   "source": [
    "# 文本前處理"
   ]
  },
  {
   "cell_type": "code",
   "execution_count": 10,
   "id": "eda5daa3",
   "metadata": {},
   "outputs": [],
   "source": [
    "#沿用 PA1 的內容\n",
    "def syllables(word):\n",
    "    #當字尾是e時音節數會減一\n",
    "    if word.endswith(\"e\"):\n",
    "        word.replace(\"e\", \"\")\n",
    "    \n",
    "    #當字裡包含a e i o u y時，會增加音節\n",
    "    word = word.replace(\"a\", \",\")\n",
    "    word = word.replace(\"e\", \",\")\n",
    "    word = word.replace(\"i\", \",\")\n",
    "    word = word.replace(\"o\", \",\")\n",
    "    word = word.replace(\"u\", \",\")\n",
    "    word = word.replace(\"y\", \",\")\n",
    "    \n",
    "    count = word.count(\",\")\n",
    "    return count"
   ]
  },
  {
   "cell_type": "code",
   "execution_count": 11,
   "id": "dd6e2488",
   "metadata": {},
   "outputs": [],
   "source": [
    "#沿用 PA1 的內容\n",
    "def tokenization(text):\n",
    "    punctuation = [\",\", \"'\", \".\", \"?\", \"!\", \"(\", \")\", \":\", \"`\", \"``\", \"%\", \"{\", \"}\", \";\", \"*\", \"#\", \"+\", \"$\", \n",
    "                   \"\\\\\", \"/\", \"_\", \"=\", \"^\", \"&\", \"<\", \">\", \"@\", \"|\", \"[\", \"]\"]\n",
    "    for i in punctuation:\n",
    "        text = text.replace(i, \" \")\n",
    "    \n",
    "    #新增移除數字\n",
    "    numbers = [\"1\", \"2\", \"3\", \"4\", \"5\", \"6\", \"7\", \"8\", \"9\", \"0\"]\n",
    "    for j in numbers:\n",
    "        text = text.replace(j, \" \")\n",
    "    \n",
    "    text = text.replace(\"\\n\", \" \")\n",
    "    text = text.replace(\"\\t\", \" \") \n",
    "    text = text.replace(\"\\r\", \" \") \n",
    "    text = text.replace('\"', \"\")\n",
    "    \n",
    "    #檢查 hyphens\n",
    "    if \"-\" in text:\n",
    "        t = text.count(\"-\")\n",
    "        \n",
    "        #如果那個字的 hyphen 數小於2時，就會進入音節數的判斷\n",
    "        if t < 2:\n",
    "            count_syllables_word = text.split(\"-\")\n",
    "            s = syllables(count_syllables_word[0]) #計算第一個字音節\n",
    "            \n",
    "            #如果那個字的音節數小於2時，就會把字合併\n",
    "            if(s < 2): \n",
    "                text = text.replace(\"-\", \"\") #ex. co-worker --> coworker  \n",
    "            else:\n",
    "                text = text.replace(\"-\", \" \") #ex. semi-supervised --> semi supervised\n",
    "        else:\n",
    "            text = text.replace(\"-\", \" \") #ex. state-of-art --> state of art\n",
    "\n",
    "    \n",
    "    text = text.split(\" \")\n",
    "    text = list(filter(None, text)) #remove null\n",
    "    \n",
    "    return text"
   ]
  },
  {
   "cell_type": "code",
   "execution_count": 12,
   "id": "a897bd5b",
   "metadata": {},
   "outputs": [],
   "source": [
    "from nltk.stem.porter import *\n",
    "import nltk\n",
    "from nltk.corpus import stopwords\n",
    "stemmer = PorterStemmer()\n",
    "stopword_list = set(stopwords.words('english'))\n",
    "\n",
    "docID = []\n",
    "t_index = []\n",
    "term = []\n",
    "df = []\n",
    "tf = []\n",
    "\n",
    "for i in range(len(X_train)):\n",
    "    token_list = []    \n",
    "\n",
    "    token_list.extend(tokenization(X_train['CompleteReview'].iloc[i].encode('utf-8', 'ignore').decode('ascii', 'ignore')))\n",
    "    \n",
    "    #lower case\n",
    "    for j in range (len(token_list)):\n",
    "        if(isinstance(token_list[j], str)): #only string has to lower case \n",
    "            token_list[j] = token_list[j].lower()  \n",
    "    \n",
    "    #stemming\n",
    "#     new_token_list = [stemmer.stem(token) for token in token_list]    \n",
    "    \n",
    "    #stopword removal\n",
    "    filtered_tokens = [token for token in token_list if token not in stopword_list] \n",
    "    \n",
    "    #remove strange token\n",
    "    filtered_tokens = [token for token in filtered_tokens if token != 'zzcadasdgadsgadgdddaddddddgggggggggggggggggggggggggggggggggggggggggggggggggggggggggggggggggggggggggggggggggggggggggggggggggggggggggggggggggggggggggggggggggggggggggggggggggggggggggggggggggggggggggggggggggggggg']\n",
    "    \n",
    "    #紀錄 doc_i 中的 docID, term, tf\n",
    "    for t in filtered_tokens: \n",
    "        docID.append(X_train['id'].iloc[i])\n",
    "        term.append(t)\n",
    "        tf.append(filtered_tokens.count(t)) #tf 的平均是用原始檔案中的字數去除"
   ]
  },
  {
   "cell_type": "code",
   "execution_count": 13,
   "id": "89f383d3",
   "metadata": {},
   "outputs": [],
   "source": [
    "#step_one: 在這個步驟中將 term 跟 docID 取出\n",
    "step_one = []\n",
    "for i in range(len(term)):\n",
    "    tmp = [term[i], str(docID[i])] #[apple, 1]\n",
    "    step_one.append(tmp)"
   ]
  },
  {
   "cell_type": "code",
   "execution_count": 14,
   "id": "51cb3cf0",
   "metadata": {},
   "outputs": [
    {
     "name": "stdout",
     "output_type": "stream",
     "text": [
      "['abide' 'abilities' 'ability' ... 'yrs' 'zeal' 'zonal']\n",
      "[1 2 9 ... 3 1 1]\n"
     ]
    }
   ],
   "source": [
    "#step_two: 這個步驟中將 term 按照字母順序排列，並去除重複的字及記錄 df\n",
    "\n",
    "import numpy as np\n",
    "#sort alphabetically\n",
    "step_two = sorted(step_one, key=lambda l:l[0])\n",
    "\n",
    "step_two = np.array(step_two) #list to numpy\n",
    "\n",
    "step_two = np.unique(step_two, axis=0) #去除同一個 docID 中的相同字\n",
    "step_two = step_two.T\n",
    "t, df = np.unique(step_two[0], return_counts=True) #計算不同檔案中的相同字數量\n",
    "print(t)\n",
    "print(df)"
   ]
  },
  {
   "cell_type": "code",
   "execution_count": 15,
   "id": "18669b5f",
   "metadata": {},
   "outputs": [],
   "source": [
    "my_dic ={}\n",
    "my_dic[\"term\"] = t\n",
    "my_dic[\"df\"] = df\n",
    "my_dic[\"t_index\"] = [i for i in range (1, len(t)+1)] #給定 term index (從1開始)"
   ]
  },
  {
   "cell_type": "code",
   "execution_count": 16,
   "id": "0c350bc9",
   "metadata": {},
   "outputs": [],
   "source": [
    "#把字典的字和對應到的文件 id 取出，方便之後找字對應到的 class\n",
    "dict_ids = {}\n",
    "c = 0\n",
    "for t in step_two[0]:\n",
    "    if t in term:\n",
    "        if t not in dict_ids:\n",
    "            dict_ids[t] = list()\n",
    "        dict_ids[t].append(step_two[1,c])      \n",
    "        \n",
    "    c+=1"
   ]
  },
  {
   "cell_type": "code",
   "execution_count": 17,
   "id": "19f19be6",
   "metadata": {},
   "outputs": [],
   "source": [
    "#寫入 dictionary.txt 中\n",
    "dic = open(\"dictionary.txt\", \"w\")\n",
    "dic.write(\"t_index term df\")\n",
    "for i in range (len(my_dic[\"term\"])):\n",
    "    dic.write(\"\\n\" + str(my_dic[\"t_index\"][i]).encode('utf-8','ignore').decode(\"utf-8\") + \" \" + str(my_dic[\"term\"][i]).encode('utf-8','ignore').decode(\"utf-8\") + \" \" + str(my_dic[\"df\"][i]).encode('utf-8','ignore').decode(\"utf-8\"))\n",
    "    \n",
    "dic.close()"
   ]
  },
  {
   "cell_type": "code",
   "execution_count": 18,
   "id": "7c11442d",
   "metadata": {},
   "outputs": [],
   "source": [
    "#將 docID, term, tf, t_index, df 放到同一個 dataframe，以方便計算 tf-idf\n",
    "#dataframe for tf\n",
    "import pandas as pd\n",
    "tf_dataframe = pd.DataFrame(list(zip(docID, term, tf)), columns =['docID', 'term', 'tf'])"
   ]
  },
  {
   "cell_type": "code",
   "execution_count": 19,
   "id": "7f74a5ea",
   "metadata": {},
   "outputs": [
    {
     "data": {
      "text/html": [
       "<div>\n",
       "<style scoped>\n",
       "    .dataframe tbody tr th:only-of-type {\n",
       "        vertical-align: middle;\n",
       "    }\n",
       "\n",
       "    .dataframe tbody tr th {\n",
       "        vertical-align: top;\n",
       "    }\n",
       "\n",
       "    .dataframe thead th {\n",
       "        text-align: right;\n",
       "    }\n",
       "</style>\n",
       "<table border=\"1\" class=\"dataframe\">\n",
       "  <thead>\n",
       "    <tr style=\"text-align: right;\">\n",
       "      <th></th>\n",
       "      <th>docID</th>\n",
       "      <th>term</th>\n",
       "      <th>tf</th>\n",
       "    </tr>\n",
       "  </thead>\n",
       "  <tbody>\n",
       "    <tr>\n",
       "      <th>0</th>\n",
       "      <td>8807</td>\n",
       "      <td>one</td>\n",
       "      <td>1</td>\n",
       "    </tr>\n",
       "    <tr>\n",
       "      <th>1</th>\n",
       "      <td>8807</td>\n",
       "      <td>best</td>\n",
       "      <td>6</td>\n",
       "    </tr>\n",
       "    <tr>\n",
       "      <th>2</th>\n",
       "      <td>8807</td>\n",
       "      <td>startups</td>\n",
       "      <td>1</td>\n",
       "    </tr>\n",
       "    <tr>\n",
       "      <th>3</th>\n",
       "      <td>8807</td>\n",
       "      <td>work</td>\n",
       "      <td>5</td>\n",
       "    </tr>\n",
       "    <tr>\n",
       "      <th>4</th>\n",
       "      <td>8807</td>\n",
       "      <td>good</td>\n",
       "      <td>1</td>\n",
       "    </tr>\n",
       "    <tr>\n",
       "      <th>...</th>\n",
       "      <td>...</td>\n",
       "      <td>...</td>\n",
       "      <td>...</td>\n",
       "    </tr>\n",
       "    <tr>\n",
       "      <th>30630</th>\n",
       "      <td>23390</td>\n",
       "      <td>employees</td>\n",
       "      <td>1</td>\n",
       "    </tr>\n",
       "    <tr>\n",
       "      <th>30631</th>\n",
       "      <td>23390</td>\n",
       "      <td>experience</td>\n",
       "      <td>1</td>\n",
       "    </tr>\n",
       "    <tr>\n",
       "      <th>30632</th>\n",
       "      <td>23390</td>\n",
       "      <td>good</td>\n",
       "      <td>3</td>\n",
       "    </tr>\n",
       "    <tr>\n",
       "      <th>30633</th>\n",
       "      <td>23390</td>\n",
       "      <td>working</td>\n",
       "      <td>1</td>\n",
       "    </tr>\n",
       "    <tr>\n",
       "      <th>30634</th>\n",
       "      <td>23390</td>\n",
       "      <td>nokia</td>\n",
       "      <td>1</td>\n",
       "    </tr>\n",
       "  </tbody>\n",
       "</table>\n",
       "<p>30635 rows × 3 columns</p>\n",
       "</div>"
      ],
      "text/plain": [
       "       docID        term  tf\n",
       "0       8807         one   1\n",
       "1       8807        best   6\n",
       "2       8807    startups   1\n",
       "3       8807        work   5\n",
       "4       8807        good   1\n",
       "...      ...         ...  ..\n",
       "30630  23390   employees   1\n",
       "30631  23390  experience   1\n",
       "30632  23390        good   3\n",
       "30633  23390     working   1\n",
       "30634  23390       nokia   1\n",
       "\n",
       "[30635 rows x 3 columns]"
      ]
     },
     "execution_count": 19,
     "metadata": {},
     "output_type": "execute_result"
    }
   ],
   "source": [
    "tf_dataframe"
   ]
  },
  {
   "cell_type": "code",
   "execution_count": 20,
   "id": "b8231250",
   "metadata": {},
   "outputs": [],
   "source": [
    "#dataframe for dictionary\n",
    "dict_df = pd.read_csv('dictionary.txt', delimiter = \" \", keep_default_na=False)"
   ]
  },
  {
   "cell_type": "code",
   "execution_count": 21,
   "id": "8e2ef52b",
   "metadata": {},
   "outputs": [],
   "source": [
    "#join tf_dataframe with dataframes\n",
    "df3 = tf_dataframe.join(dict_df.set_index('term'), on='term')"
   ]
  },
  {
   "cell_type": "code",
   "execution_count": 22,
   "id": "fde83453",
   "metadata": {},
   "outputs": [
    {
     "data": {
      "text/html": [
       "<div>\n",
       "<style scoped>\n",
       "    .dataframe tbody tr th:only-of-type {\n",
       "        vertical-align: middle;\n",
       "    }\n",
       "\n",
       "    .dataframe tbody tr th {\n",
       "        vertical-align: top;\n",
       "    }\n",
       "\n",
       "    .dataframe thead th {\n",
       "        text-align: right;\n",
       "    }\n",
       "</style>\n",
       "<table border=\"1\" class=\"dataframe\">\n",
       "  <thead>\n",
       "    <tr style=\"text-align: right;\">\n",
       "      <th></th>\n",
       "      <th>docID</th>\n",
       "      <th>term</th>\n",
       "      <th>tf</th>\n",
       "      <th>t_index</th>\n",
       "      <th>df</th>\n",
       "    </tr>\n",
       "  </thead>\n",
       "  <tbody>\n",
       "    <tr>\n",
       "      <th>0</th>\n",
       "      <td>8807</td>\n",
       "      <td>one</td>\n",
       "      <td>1</td>\n",
       "      <td>2862</td>\n",
       "      <td>120</td>\n",
       "    </tr>\n",
       "    <tr>\n",
       "      <th>1</th>\n",
       "      <td>8807</td>\n",
       "      <td>best</td>\n",
       "      <td>6</td>\n",
       "      <td>434</td>\n",
       "      <td>154</td>\n",
       "    </tr>\n",
       "    <tr>\n",
       "      <th>2</th>\n",
       "      <td>8807</td>\n",
       "      <td>startups</td>\n",
       "      <td>1</td>\n",
       "      <td>3910</td>\n",
       "      <td>1</td>\n",
       "    </tr>\n",
       "    <tr>\n",
       "      <th>3</th>\n",
       "      <td>8807</td>\n",
       "      <td>work</td>\n",
       "      <td>5</td>\n",
       "      <td>4512</td>\n",
       "      <td>868</td>\n",
       "    </tr>\n",
       "    <tr>\n",
       "      <th>4</th>\n",
       "      <td>8807</td>\n",
       "      <td>good</td>\n",
       "      <td>1</td>\n",
       "      <td>1814</td>\n",
       "      <td>734</td>\n",
       "    </tr>\n",
       "    <tr>\n",
       "      <th>...</th>\n",
       "      <td>...</td>\n",
       "      <td>...</td>\n",
       "      <td>...</td>\n",
       "      <td>...</td>\n",
       "      <td>...</td>\n",
       "    </tr>\n",
       "    <tr>\n",
       "      <th>30630</th>\n",
       "      <td>23390</td>\n",
       "      <td>employees</td>\n",
       "      <td>1</td>\n",
       "      <td>1318</td>\n",
       "      <td>139</td>\n",
       "    </tr>\n",
       "    <tr>\n",
       "      <th>30631</th>\n",
       "      <td>23390</td>\n",
       "      <td>experience</td>\n",
       "      <td>1</td>\n",
       "      <td>1513</td>\n",
       "      <td>209</td>\n",
       "    </tr>\n",
       "    <tr>\n",
       "      <th>30632</th>\n",
       "      <td>23390</td>\n",
       "      <td>good</td>\n",
       "      <td>3</td>\n",
       "      <td>1814</td>\n",
       "      <td>734</td>\n",
       "    </tr>\n",
       "    <tr>\n",
       "      <th>30633</th>\n",
       "      <td>23390</td>\n",
       "      <td>working</td>\n",
       "      <td>1</td>\n",
       "      <td>4521</td>\n",
       "      <td>295</td>\n",
       "    </tr>\n",
       "    <tr>\n",
       "      <th>30634</th>\n",
       "      <td>23390</td>\n",
       "      <td>nokia</td>\n",
       "      <td>1</td>\n",
       "      <td>2794</td>\n",
       "      <td>8</td>\n",
       "    </tr>\n",
       "  </tbody>\n",
       "</table>\n",
       "<p>30635 rows × 5 columns</p>\n",
       "</div>"
      ],
      "text/plain": [
       "       docID        term  tf  t_index   df\n",
       "0       8807         one   1     2862  120\n",
       "1       8807        best   6      434  154\n",
       "2       8807    startups   1     3910    1\n",
       "3       8807        work   5     4512  868\n",
       "4       8807        good   1     1814  734\n",
       "...      ...         ...  ..      ...  ...\n",
       "30630  23390   employees   1     1318  139\n",
       "30631  23390  experience   1     1513  209\n",
       "30632  23390        good   3     1814  734\n",
       "30633  23390     working   1     4521  295\n",
       "30634  23390       nokia   1     2794    8\n",
       "\n",
       "[30635 rows x 5 columns]"
      ]
     },
     "execution_count": 22,
     "metadata": {},
     "output_type": "execute_result"
    }
   ],
   "source": [
    "df3"
   ]
  },
  {
   "cell_type": "code",
   "execution_count": 23,
   "id": "421b0a7d",
   "metadata": {},
   "outputs": [],
   "source": [
    "#先計算 tf-idf\n",
    "N = len(X_train)\n",
    "tfidf = df3['tf'] * np.log10(N / df3['df'])\n",
    "df3 = df3.assign(tf_idf = tfidf)"
   ]
  },
  {
   "cell_type": "code",
   "execution_count": 24,
   "id": "0e4e2f1e",
   "metadata": {},
   "outputs": [],
   "source": [
    "#將 tf-idf 轉為 unit vector\n",
    "new_df3 = df3.copy()\n",
    "for i in (X_train['id']):\n",
    "    #完整 vector space 大小\n",
    "    matrix = df3.shape[0]   \n",
    "    vector_space = np.zeros(matrix)\n",
    "    rows = df3.loc[df3['docID'] == i]\n",
    "    \n",
    "    #取出對應的 docID 的 vector 後算距離\n",
    "    vector_space[rows['t_index']] = rows['tf_idf']\n",
    "    new_tfidf = rows.iloc[:, 5] / np.linalg.norm(vector_space)\n",
    "    \n",
    "    #改成 unit vector\n",
    "    new_df3.loc[new_df3['docID'] == i, 'tf_idf'] = new_tfidf"
   ]
  },
  {
   "cell_type": "code",
   "execution_count": 25,
   "id": "fae63395",
   "metadata": {},
   "outputs": [
    {
     "data": {
      "text/html": [
       "<div>\n",
       "<style scoped>\n",
       "    .dataframe tbody tr th:only-of-type {\n",
       "        vertical-align: middle;\n",
       "    }\n",
       "\n",
       "    .dataframe tbody tr th {\n",
       "        vertical-align: top;\n",
       "    }\n",
       "\n",
       "    .dataframe thead th {\n",
       "        text-align: right;\n",
       "    }\n",
       "</style>\n",
       "<table border=\"1\" class=\"dataframe\">\n",
       "  <thead>\n",
       "    <tr style=\"text-align: right;\">\n",
       "      <th></th>\n",
       "      <th>docID</th>\n",
       "      <th>term</th>\n",
       "      <th>tf</th>\n",
       "      <th>t_index</th>\n",
       "      <th>df</th>\n",
       "      <th>tf_idf</th>\n",
       "    </tr>\n",
       "  </thead>\n",
       "  <tbody>\n",
       "    <tr>\n",
       "      <th>0</th>\n",
       "      <td>8807</td>\n",
       "      <td>one</td>\n",
       "      <td>1</td>\n",
       "      <td>2862</td>\n",
       "      <td>120</td>\n",
       "      <td>0.085904</td>\n",
       "    </tr>\n",
       "    <tr>\n",
       "      <th>1</th>\n",
       "      <td>8807</td>\n",
       "      <td>best</td>\n",
       "      <td>6</td>\n",
       "      <td>434</td>\n",
       "      <td>154</td>\n",
       "      <td>0.463868</td>\n",
       "    </tr>\n",
       "    <tr>\n",
       "      <th>2</th>\n",
       "      <td>8807</td>\n",
       "      <td>startups</td>\n",
       "      <td>1</td>\n",
       "      <td>3910</td>\n",
       "      <td>1</td>\n",
       "      <td>0.250813</td>\n",
       "    </tr>\n",
       "    <tr>\n",
       "      <th>3</th>\n",
       "      <td>8807</td>\n",
       "      <td>work</td>\n",
       "      <td>5</td>\n",
       "      <td>4512</td>\n",
       "      <td>868</td>\n",
       "      <td>0.088731</td>\n",
       "    </tr>\n",
       "    <tr>\n",
       "      <th>4</th>\n",
       "      <td>8807</td>\n",
       "      <td>good</td>\n",
       "      <td>1</td>\n",
       "      <td>1814</td>\n",
       "      <td>734</td>\n",
       "      <td>0.023522</td>\n",
       "    </tr>\n",
       "    <tr>\n",
       "      <th>...</th>\n",
       "      <td>...</td>\n",
       "      <td>...</td>\n",
       "      <td>...</td>\n",
       "      <td>...</td>\n",
       "      <td>...</td>\n",
       "      <td>...</td>\n",
       "    </tr>\n",
       "    <tr>\n",
       "      <th>30630</th>\n",
       "      <td>23390</td>\n",
       "      <td>employees</td>\n",
       "      <td>1</td>\n",
       "      <td>1318</td>\n",
       "      <td>139</td>\n",
       "      <td>0.168582</td>\n",
       "    </tr>\n",
       "    <tr>\n",
       "      <th>30631</th>\n",
       "      <td>23390</td>\n",
       "      <td>experience</td>\n",
       "      <td>1</td>\n",
       "      <td>1513</td>\n",
       "      <td>209</td>\n",
       "      <td>0.139285</td>\n",
       "    </tr>\n",
       "    <tr>\n",
       "      <th>30632</th>\n",
       "      <td>23390</td>\n",
       "      <td>good</td>\n",
       "      <td>3</td>\n",
       "      <td>1814</td>\n",
       "      <td>734</td>\n",
       "      <td>0.147156</td>\n",
       "    </tr>\n",
       "    <tr>\n",
       "      <th>30633</th>\n",
       "      <td>23390</td>\n",
       "      <td>working</td>\n",
       "      <td>1</td>\n",
       "      <td>4521</td>\n",
       "      <td>295</td>\n",
       "      <td>0.114529</td>\n",
       "    </tr>\n",
       "    <tr>\n",
       "      <th>30634</th>\n",
       "      <td>23390</td>\n",
       "      <td>nokia</td>\n",
       "      <td>1</td>\n",
       "      <td>2794</td>\n",
       "      <td>8</td>\n",
       "      <td>0.373664</td>\n",
       "    </tr>\n",
       "  </tbody>\n",
       "</table>\n",
       "<p>30635 rows × 6 columns</p>\n",
       "</div>"
      ],
      "text/plain": [
       "       docID        term  tf  t_index   df    tf_idf\n",
       "0       8807         one   1     2862  120  0.085904\n",
       "1       8807        best   6      434  154  0.463868\n",
       "2       8807    startups   1     3910    1  0.250813\n",
       "3       8807        work   5     4512  868  0.088731\n",
       "4       8807        good   1     1814  734  0.023522\n",
       "...      ...         ...  ..      ...  ...       ...\n",
       "30630  23390   employees   1     1318  139  0.168582\n",
       "30631  23390  experience   1     1513  209  0.139285\n",
       "30632  23390        good   3     1814  734  0.147156\n",
       "30633  23390     working   1     4521  295  0.114529\n",
       "30634  23390       nokia   1     2794    8  0.373664\n",
       "\n",
       "[30635 rows x 6 columns]"
      ]
     },
     "execution_count": 25,
     "metadata": {},
     "output_type": "execute_result"
    }
   ],
   "source": [
    "new_df3"
   ]
  },
  {
   "cell_type": "markdown",
   "id": "f2ed1688",
   "metadata": {},
   "source": [
    "# Normalized TF-IDF DataFrame 整理"
   ]
  },
  {
   "cell_type": "code",
   "execution_count": 26,
   "id": "3f26891e",
   "metadata": {},
   "outputs": [
    {
     "data": {
      "text/plain": [
       "4559"
      ]
     },
     "execution_count": 26,
     "metadata": {},
     "output_type": "execute_result"
    }
   ],
   "source": [
    "# 字典的字\n",
    "terms = sorted(set(new_df3['term']))\n",
    "len(terms)"
   ]
  },
  {
   "cell_type": "code",
   "execution_count": 27,
   "id": "6bbe8530",
   "metadata": {},
   "outputs": [
    {
     "data": {
      "text/plain": [
       "1453"
      ]
     },
     "execution_count": 27,
     "metadata": {},
     "output_type": "execute_result"
    }
   ],
   "source": [
    "# 評論 ID\n",
    "doc_IDs = sorted(set(new_df3['docID']))\n",
    "len(doc_IDs)"
   ]
  },
  {
   "cell_type": "code",
   "execution_count": 28,
   "id": "8fcec731",
   "metadata": {},
   "outputs": [
    {
     "data": {
      "text/html": [
       "<div>\n",
       "<style scoped>\n",
       "    .dataframe tbody tr th:only-of-type {\n",
       "        vertical-align: middle;\n",
       "    }\n",
       "\n",
       "    .dataframe tbody tr th {\n",
       "        vertical-align: top;\n",
       "    }\n",
       "\n",
       "    .dataframe thead th {\n",
       "        text-align: right;\n",
       "    }\n",
       "</style>\n",
       "<table border=\"1\" class=\"dataframe\">\n",
       "  <thead>\n",
       "    <tr style=\"text-align: right;\">\n",
       "      <th></th>\n",
       "      <th>abide</th>\n",
       "      <th>abilities</th>\n",
       "      <th>ability</th>\n",
       "      <th>able</th>\n",
       "      <th>abled</th>\n",
       "      <th>abroad</th>\n",
       "      <th>absence</th>\n",
       "      <th>absenteeism</th>\n",
       "      <th>absolutely</th>\n",
       "      <th>abt</th>\n",
       "      <th>...</th>\n",
       "      <th>years</th>\n",
       "      <th>yes</th>\n",
       "      <th>yet</th>\n",
       "      <th>yoga</th>\n",
       "      <th>yoir</th>\n",
       "      <th>young</th>\n",
       "      <th>youve</th>\n",
       "      <th>yrs</th>\n",
       "      <th>zeal</th>\n",
       "      <th>zonal</th>\n",
       "    </tr>\n",
       "  </thead>\n",
       "  <tbody>\n",
       "    <tr>\n",
       "      <th>18</th>\n",
       "      <td>0.0</td>\n",
       "      <td>0.0</td>\n",
       "      <td>0.0</td>\n",
       "      <td>0.0</td>\n",
       "      <td>0.0</td>\n",
       "      <td>0.0</td>\n",
       "      <td>0.0</td>\n",
       "      <td>0.0</td>\n",
       "      <td>0.0</td>\n",
       "      <td>0.0</td>\n",
       "      <td>...</td>\n",
       "      <td>0.0</td>\n",
       "      <td>0.0</td>\n",
       "      <td>0.0</td>\n",
       "      <td>0.0</td>\n",
       "      <td>0.0</td>\n",
       "      <td>0.0</td>\n",
       "      <td>0.0</td>\n",
       "      <td>0.0</td>\n",
       "      <td>0.0</td>\n",
       "      <td>0.0</td>\n",
       "    </tr>\n",
       "    <tr>\n",
       "      <th>283</th>\n",
       "      <td>0.0</td>\n",
       "      <td>0.0</td>\n",
       "      <td>0.0</td>\n",
       "      <td>0.0</td>\n",
       "      <td>0.0</td>\n",
       "      <td>0.0</td>\n",
       "      <td>0.0</td>\n",
       "      <td>0.0</td>\n",
       "      <td>0.0</td>\n",
       "      <td>0.0</td>\n",
       "      <td>...</td>\n",
       "      <td>0.0</td>\n",
       "      <td>0.0</td>\n",
       "      <td>0.0</td>\n",
       "      <td>0.0</td>\n",
       "      <td>0.0</td>\n",
       "      <td>0.0</td>\n",
       "      <td>0.0</td>\n",
       "      <td>0.0</td>\n",
       "      <td>0.0</td>\n",
       "      <td>0.0</td>\n",
       "    </tr>\n",
       "    <tr>\n",
       "      <th>359</th>\n",
       "      <td>0.0</td>\n",
       "      <td>0.0</td>\n",
       "      <td>0.0</td>\n",
       "      <td>0.0</td>\n",
       "      <td>0.0</td>\n",
       "      <td>0.0</td>\n",
       "      <td>0.0</td>\n",
       "      <td>0.0</td>\n",
       "      <td>0.0</td>\n",
       "      <td>0.0</td>\n",
       "      <td>...</td>\n",
       "      <td>0.0</td>\n",
       "      <td>0.0</td>\n",
       "      <td>0.0</td>\n",
       "      <td>0.0</td>\n",
       "      <td>0.0</td>\n",
       "      <td>0.0</td>\n",
       "      <td>0.0</td>\n",
       "      <td>0.0</td>\n",
       "      <td>0.0</td>\n",
       "      <td>0.0</td>\n",
       "    </tr>\n",
       "    <tr>\n",
       "      <th>418</th>\n",
       "      <td>0.0</td>\n",
       "      <td>0.0</td>\n",
       "      <td>0.0</td>\n",
       "      <td>0.0</td>\n",
       "      <td>0.0</td>\n",
       "      <td>0.0</td>\n",
       "      <td>0.0</td>\n",
       "      <td>0.0</td>\n",
       "      <td>0.0</td>\n",
       "      <td>0.0</td>\n",
       "      <td>...</td>\n",
       "      <td>0.0</td>\n",
       "      <td>0.0</td>\n",
       "      <td>0.0</td>\n",
       "      <td>0.0</td>\n",
       "      <td>0.0</td>\n",
       "      <td>0.0</td>\n",
       "      <td>0.0</td>\n",
       "      <td>0.0</td>\n",
       "      <td>0.0</td>\n",
       "      <td>0.0</td>\n",
       "    </tr>\n",
       "    <tr>\n",
       "      <th>503</th>\n",
       "      <td>0.0</td>\n",
       "      <td>0.0</td>\n",
       "      <td>0.0</td>\n",
       "      <td>0.0</td>\n",
       "      <td>0.0</td>\n",
       "      <td>0.0</td>\n",
       "      <td>0.0</td>\n",
       "      <td>0.0</td>\n",
       "      <td>0.0</td>\n",
       "      <td>0.0</td>\n",
       "      <td>...</td>\n",
       "      <td>0.0</td>\n",
       "      <td>0.0</td>\n",
       "      <td>0.0</td>\n",
       "      <td>0.0</td>\n",
       "      <td>0.0</td>\n",
       "      <td>0.0</td>\n",
       "      <td>0.0</td>\n",
       "      <td>0.0</td>\n",
       "      <td>0.0</td>\n",
       "      <td>0.0</td>\n",
       "    </tr>\n",
       "    <tr>\n",
       "      <th>...</th>\n",
       "      <td>...</td>\n",
       "      <td>...</td>\n",
       "      <td>...</td>\n",
       "      <td>...</td>\n",
       "      <td>...</td>\n",
       "      <td>...</td>\n",
       "      <td>...</td>\n",
       "      <td>...</td>\n",
       "      <td>...</td>\n",
       "      <td>...</td>\n",
       "      <td>...</td>\n",
       "      <td>...</td>\n",
       "      <td>...</td>\n",
       "      <td>...</td>\n",
       "      <td>...</td>\n",
       "      <td>...</td>\n",
       "      <td>...</td>\n",
       "      <td>...</td>\n",
       "      <td>...</td>\n",
       "      <td>...</td>\n",
       "      <td>...</td>\n",
       "    </tr>\n",
       "    <tr>\n",
       "      <th>144876</th>\n",
       "      <td>0.0</td>\n",
       "      <td>0.0</td>\n",
       "      <td>0.0</td>\n",
       "      <td>0.0</td>\n",
       "      <td>0.0</td>\n",
       "      <td>0.0</td>\n",
       "      <td>0.0</td>\n",
       "      <td>0.0</td>\n",
       "      <td>0.0</td>\n",
       "      <td>0.0</td>\n",
       "      <td>...</td>\n",
       "      <td>0.0</td>\n",
       "      <td>0.0</td>\n",
       "      <td>0.0</td>\n",
       "      <td>0.0</td>\n",
       "      <td>0.0</td>\n",
       "      <td>0.0</td>\n",
       "      <td>0.0</td>\n",
       "      <td>0.0</td>\n",
       "      <td>0.0</td>\n",
       "      <td>0.0</td>\n",
       "    </tr>\n",
       "    <tr>\n",
       "      <th>144921</th>\n",
       "      <td>0.0</td>\n",
       "      <td>0.0</td>\n",
       "      <td>0.0</td>\n",
       "      <td>0.0</td>\n",
       "      <td>0.0</td>\n",
       "      <td>0.0</td>\n",
       "      <td>0.0</td>\n",
       "      <td>0.0</td>\n",
       "      <td>0.0</td>\n",
       "      <td>0.0</td>\n",
       "      <td>...</td>\n",
       "      <td>0.0</td>\n",
       "      <td>0.0</td>\n",
       "      <td>0.0</td>\n",
       "      <td>0.0</td>\n",
       "      <td>0.0</td>\n",
       "      <td>0.0</td>\n",
       "      <td>0.0</td>\n",
       "      <td>0.492356</td>\n",
       "      <td>0.0</td>\n",
       "      <td>0.0</td>\n",
       "    </tr>\n",
       "    <tr>\n",
       "      <th>144924</th>\n",
       "      <td>0.0</td>\n",
       "      <td>0.0</td>\n",
       "      <td>0.0</td>\n",
       "      <td>0.0</td>\n",
       "      <td>0.0</td>\n",
       "      <td>0.0</td>\n",
       "      <td>0.0</td>\n",
       "      <td>0.0</td>\n",
       "      <td>0.0</td>\n",
       "      <td>0.0</td>\n",
       "      <td>...</td>\n",
       "      <td>0.0</td>\n",
       "      <td>0.0</td>\n",
       "      <td>0.0</td>\n",
       "      <td>0.0</td>\n",
       "      <td>0.0</td>\n",
       "      <td>0.0</td>\n",
       "      <td>0.0</td>\n",
       "      <td>0.0</td>\n",
       "      <td>0.0</td>\n",
       "      <td>0.0</td>\n",
       "    </tr>\n",
       "    <tr>\n",
       "      <th>144989</th>\n",
       "      <td>0.0</td>\n",
       "      <td>0.0</td>\n",
       "      <td>0.0</td>\n",
       "      <td>0.0</td>\n",
       "      <td>0.0</td>\n",
       "      <td>0.0</td>\n",
       "      <td>0.0</td>\n",
       "      <td>0.0</td>\n",
       "      <td>0.0</td>\n",
       "      <td>0.0</td>\n",
       "      <td>...</td>\n",
       "      <td>0.0</td>\n",
       "      <td>0.0</td>\n",
       "      <td>0.0</td>\n",
       "      <td>0.0</td>\n",
       "      <td>0.0</td>\n",
       "      <td>0.0</td>\n",
       "      <td>0.0</td>\n",
       "      <td>0.0</td>\n",
       "      <td>0.0</td>\n",
       "      <td>0.0</td>\n",
       "    </tr>\n",
       "    <tr>\n",
       "      <th>145176</th>\n",
       "      <td>0.0</td>\n",
       "      <td>0.0</td>\n",
       "      <td>0.0</td>\n",
       "      <td>0.0</td>\n",
       "      <td>0.0</td>\n",
       "      <td>0.0</td>\n",
       "      <td>0.0</td>\n",
       "      <td>0.0</td>\n",
       "      <td>0.0</td>\n",
       "      <td>0.0</td>\n",
       "      <td>...</td>\n",
       "      <td>0.0</td>\n",
       "      <td>0.0</td>\n",
       "      <td>0.0</td>\n",
       "      <td>0.0</td>\n",
       "      <td>0.0</td>\n",
       "      <td>0.0</td>\n",
       "      <td>0.0</td>\n",
       "      <td>0.0</td>\n",
       "      <td>0.0</td>\n",
       "      <td>0.0</td>\n",
       "    </tr>\n",
       "  </tbody>\n",
       "</table>\n",
       "<p>1453 rows × 4559 columns</p>\n",
       "</div>"
      ],
      "text/plain": [
       "       abide abilities ability able abled abroad absence absenteeism  \\\n",
       "18       0.0       0.0     0.0  0.0   0.0    0.0     0.0         0.0   \n",
       "283      0.0       0.0     0.0  0.0   0.0    0.0     0.0         0.0   \n",
       "359      0.0       0.0     0.0  0.0   0.0    0.0     0.0         0.0   \n",
       "418      0.0       0.0     0.0  0.0   0.0    0.0     0.0         0.0   \n",
       "503      0.0       0.0     0.0  0.0   0.0    0.0     0.0         0.0   \n",
       "...      ...       ...     ...  ...   ...    ...     ...         ...   \n",
       "144876   0.0       0.0     0.0  0.0   0.0    0.0     0.0         0.0   \n",
       "144921   0.0       0.0     0.0  0.0   0.0    0.0     0.0         0.0   \n",
       "144924   0.0       0.0     0.0  0.0   0.0    0.0     0.0         0.0   \n",
       "144989   0.0       0.0     0.0  0.0   0.0    0.0     0.0         0.0   \n",
       "145176   0.0       0.0     0.0  0.0   0.0    0.0     0.0         0.0   \n",
       "\n",
       "       absolutely  abt  ... years  yes  yet yoga yoir young youve       yrs  \\\n",
       "18            0.0  0.0  ...   0.0  0.0  0.0  0.0  0.0   0.0   0.0       0.0   \n",
       "283           0.0  0.0  ...   0.0  0.0  0.0  0.0  0.0   0.0   0.0       0.0   \n",
       "359           0.0  0.0  ...   0.0  0.0  0.0  0.0  0.0   0.0   0.0       0.0   \n",
       "418           0.0  0.0  ...   0.0  0.0  0.0  0.0  0.0   0.0   0.0       0.0   \n",
       "503           0.0  0.0  ...   0.0  0.0  0.0  0.0  0.0   0.0   0.0       0.0   \n",
       "...           ...  ...  ...   ...  ...  ...  ...  ...   ...   ...       ...   \n",
       "144876        0.0  0.0  ...   0.0  0.0  0.0  0.0  0.0   0.0   0.0       0.0   \n",
       "144921        0.0  0.0  ...   0.0  0.0  0.0  0.0  0.0   0.0   0.0  0.492356   \n",
       "144924        0.0  0.0  ...   0.0  0.0  0.0  0.0  0.0   0.0   0.0       0.0   \n",
       "144989        0.0  0.0  ...   0.0  0.0  0.0  0.0  0.0   0.0   0.0       0.0   \n",
       "145176        0.0  0.0  ...   0.0  0.0  0.0  0.0  0.0   0.0   0.0       0.0   \n",
       "\n",
       "       zeal zonal  \n",
       "18      0.0   0.0  \n",
       "283     0.0   0.0  \n",
       "359     0.0   0.0  \n",
       "418     0.0   0.0  \n",
       "503     0.0   0.0  \n",
       "...     ...   ...  \n",
       "144876  0.0   0.0  \n",
       "144921  0.0   0.0  \n",
       "144924  0.0   0.0  \n",
       "144989  0.0   0.0  \n",
       "145176  0.0   0.0  \n",
       "\n",
       "[1453 rows x 4559 columns]"
      ]
     },
     "execution_count": 28,
     "metadata": {},
     "output_type": "execute_result"
    }
   ],
   "source": [
    "# 轉成 normalized TF-IDF matrix\n",
    "\n",
    "normalized_TFIDF_matrix = pd.DataFrame(columns = terms, index = doc_IDs)\n",
    "\n",
    "for i in doc_IDs:\n",
    "    \n",
    "    terms_of_docID = new_df3[new_df3['docID'] == i].term.values\n",
    "    \n",
    "    for t in terms:\n",
    "        if t not in terms_of_docID:\n",
    "            normalized_TFIDF_matrix.at[i, t] = 0.\n",
    "        else:\n",
    "            normalized_TFIDF_matrix.at[i, t] = new_df3[(new_df3['docID'] == i) & (new_df3['term'] == t)].tf_idf.values[0]\n",
    "\n",
    "normalized_TFIDF_matrix"
   ]
  },
  {
   "cell_type": "markdown",
   "id": "7cb6b5f0",
   "metadata": {},
   "source": [
    "# 找評論面向：分群"
   ]
  },
  {
   "cell_type": "code",
   "execution_count": 29,
   "id": "04cc8d63",
   "metadata": {},
   "outputs": [
    {
     "data": {
      "image/png": "[encoded data removed]",
      "text/plain": [
       "<Figure size 432x288 with 1 Axes>"
      ]
     },
     "metadata": {
      "needs_background": "light"
     },
     "output_type": "display_data"
    }
   ],
   "source": [
    "# find number of clusters：elbow (knees) method (K-means)\n",
    "\n",
    "import warnings\n",
    "warnings.filterwarnings(\"ignore\")\n",
    "\n",
    "from sklearn.cluster import KMeans\n",
    "import matplotlib.pyplot as plt\n",
    "\n",
    "cluster_numbers = [2, 3, 4, 5, 6, 7, 8, 9, 10]\n",
    "RSS = []\n",
    "\n",
    "for k in cluster_numbers:\n",
    "    kmeans = KMeans(n_clusters = k, random_state = 5).fit(normalized_TFIDF_matrix.values)\n",
    "    RSS.append(kmeans.inertia_)\n",
    "\n",
    "plt.plot(cluster_numbers, RSS)\n",
    "plt.xlabel('number of clusters')\n",
    "plt.ylabel('RSS')\n",
    "plt.title('elbow method')\n",
    "plt.show()"
   ]
  },
  {
   "cell_type": "code",
   "execution_count": 30,
   "id": "e154d1a3",
   "metadata": {},
   "outputs": [],
   "source": [
    "# K-means clustering (10 個 topic)\n",
    "\n",
    "clusters = {}\n",
    "kmeans = KMeans(n_clusters = 10, random_state = 5).fit(normalized_TFIDF_matrix.values)\n",
    "cluster_results = kmeans.labels_"
   ]
  },
  {
   "cell_type": "code",
   "execution_count": 31,
   "id": "56f968ee",
   "metadata": {},
   "outputs": [],
   "source": [
    "for cluster in set(cluster_results):\n",
    "    members = []\n",
    "    for i in range(len(cluster_results)):\n",
    "        if cluster_results[i] == cluster:\n",
    "            members.append(doc_IDs[i])\n",
    "    clusters[cluster] = members"
   ]
  },
  {
   "cell_type": "code",
   "execution_count": 32,
   "id": "1b51629e",
   "metadata": {},
   "outputs": [],
   "source": [
    "# feature selection (to understand the cluster(topic) through important terms)\n",
    "\n",
    "# pointwise mutual information\n",
    "\n",
    "def term_count_PMI(counttc, ptc, pt, pc):\n",
    "    PMI = np.log2(ptc / (pt * pc))\n",
    "    return counttc * PMI\n",
    "\n",
    "cluster_terms = {}\n",
    "\n",
    "for cluster in clusters:\n",
    "    \n",
    "    scores = []\n",
    "    \n",
    "    # calculate probability of cluster\n",
    "    pc = len(clusters[cluster]) / len(doc_IDs)\n",
    "    \n",
    "    for t in terms:\n",
    "        \n",
    "        # calculate count of term t in cluster\n",
    "        counttc = 0\n",
    "        for member in clusters[cluster]:\n",
    "            terms_of_member = new_df3[new_df3['docID'] == member].term.values\n",
    "            if t in terms_of_member:\n",
    "                counttc += new_df3[(new_df3['docID'] == member) & (new_df3['term'] == t)].tf.values[0]\n",
    "        \n",
    "        if counttc == 0:\n",
    "            scores.append(0)\n",
    "        \n",
    "        else:\n",
    "            \n",
    "            # calculate probability of term t in cluster\n",
    "            ptc = 0\n",
    "            n = 0\n",
    "            for member in clusters[cluster]:\n",
    "                if t in new_df3[new_df3['docID'] == member].term.values:\n",
    "                    n += 1\n",
    "            ptc = n/len(doc_IDs)\n",
    "\n",
    "            # calculate probability of term t\n",
    "            pt = len(set(new_df3[new_df3['term'] == t].docID.values)) / len(doc_IDs)\n",
    "\n",
    "            # calcuate count * PMI\n",
    "            scores.append(term_count_PMI(counttc, ptc, pt, pc))\n",
    "    \n",
    "    # find 10 terms with largest score\n",
    "    cluster_terms[cluster] = [terms[i] for i in np.argsort(scores)[-10:]]"
   ]
  },
  {
   "cell_type": "code",
   "execution_count": 33,
   "id": "a7c0c1c8",
   "metadata": {},
   "outputs": [
    {
     "name": "stdout",
     "output_type": "stream",
     "text": [
      "Topic 0:\n",
      "['hike', 'salary', 'career', 'security', 'growth', 'excellent', 'good', 'work', 'life', 'balance'] \n",
      "\n",
      "Topic 1:\n",
      "['usa', 'press', 'cost', 'writing', 'claims', 'time', 'tasks', 'thing', 'needs', 'accenture'] \n",
      "\n",
      "Topic 2:\n",
      "['typical', 'management', 'learned', 'hardest', 'job', 'day', 'enjoyable', 'workers', 'co', 'part'] \n",
      "\n",
      "Topic 3:\n",
      "['company', 'training', 'oracle', 'new', 'got', 'one', 'learn', 'opportunity', 'technology', 'best'] \n",
      "\n",
      "Topic 4:\n",
      "['endeavors', 'feedback', 'experience', 'us', 'glad', 'hear', 'thank', 'hi', 'wish', 'hgs'] \n",
      "\n",
      "Topic 5:\n",
      "['enjoy', 'place', 'location', 'hard', 'work', 'good', 'environment', 'working', 'fun', 'nice'] \n",
      "\n",
      "Topic 6:\n",
      "['deloitte', 'global', 'exposure', 'life', 'balance', 'learning', 'opportunities', 'work', 'place', 'great'] \n",
      "\n",
      "Topic 7:\n",
      "['good', 'hdfc', 'working', 'bank', 'learn', 'many', 'new', 'lot', 'learned', 'things'] \n",
      "\n",
      "Topic 8:\n",
      "['various', 'low', 'support', 'target', 'managing', 'market', 'members', 'level', 'ibm', 'team'] \n",
      "\n",
      "Topic 9:\n",
      "['processing', 'system', 'services', 'amazon', 'sap', 'provides', 'employees', 'tcs', 'customer', 'employee'] \n",
      "\n"
     ]
    }
   ],
   "source": [
    "for topic in cluster_terms:\n",
    "    print('Topic ' + str(topic) + ':')\n",
    "    print(cluster_terms[topic], '\\n')"
   ]
  },
  {
   "cell_type": "code",
   "execution_count": 77,
   "id": "32b26ffe",
   "metadata": {},
   "outputs": [],
   "source": [
    "# K-means clustering (5 個 topic)\n",
    "\n",
    "clusters = {}\n",
    "kmeans = KMeans(n_clusters = 5, random_state = 5).fit(normalized_TFIDF_matrix.values)\n",
    "cluster_results = kmeans.labels_"
   ]
  },
  {
   "cell_type": "code",
   "execution_count": 78,
   "id": "8a6b1b17",
   "metadata": {},
   "outputs": [],
   "source": [
    "for cluster in set(cluster_results):\n",
    "    members = []\n",
    "    for i in range(len(cluster_results)):\n",
    "        if cluster_results[i] == cluster:\n",
    "            members.append(doc_IDs[i])\n",
    "    clusters[cluster] = members"
   ]
  },
  {
   "cell_type": "code",
   "execution_count": 79,
   "id": "c020c229",
   "metadata": {},
   "outputs": [],
   "source": [
    "# feature selection (to understand the cluster(topic) through important terms)\n",
    "\n",
    "# pointwise mutual information\n",
    "\n",
    "def term_count_PMI(counttc, ptc, pt, pc):\n",
    "    PMI = np.log2(ptc / (pt * pc))\n",
    "    return counttc * PMI\n",
    "\n",
    "cluster_terms = {}\n",
    "\n",
    "for cluster in clusters:\n",
    "    \n",
    "    scores = []\n",
    "    \n",
    "    # calculate probability of cluster\n",
    "    pc = len(clusters[cluster]) / len(doc_IDs)\n",
    "    \n",
    "    for t in terms:\n",
    "        \n",
    "        # calculate count of term t in cluster\n",
    "        counttc = 0\n",
    "        for member in clusters[cluster]:\n",
    "            terms_of_member = new_df3[new_df3['docID'] == member].term.values\n",
    "            if t in terms_of_member:\n",
    "                counttc += new_df3[(new_df3['docID'] == member) & (new_df3['term'] == t)].tf.values[0]\n",
    "        \n",
    "        if counttc == 0:\n",
    "            scores.append(0)\n",
    "        \n",
    "        else:\n",
    "            \n",
    "            # calculate probability of term t in cluster\n",
    "            ptc = 0\n",
    "            n = 0\n",
    "            for member in clusters[cluster]:\n",
    "                if t in new_df3[new_df3['docID'] == member].term.values:\n",
    "                    n += 1\n",
    "            ptc = n/len(doc_IDs)\n",
    "\n",
    "            # calculate probability of term t\n",
    "            pt = len(set(new_df3[new_df3['term'] == t].docID.values)) / len(doc_IDs)\n",
    "\n",
    "            # calcuate count * PMI\n",
    "            scores.append(term_count_PMI(counttc, ptc, pt, pc))\n",
    "    \n",
    "    # find 10 terms with largest score\n",
    "    cluster_terms[cluster] = [terms[i] for i in np.argsort(scores)[-10:]]"
   ]
  },
  {
   "cell_type": "code",
   "execution_count": 80,
   "id": "b7ff9e78",
   "metadata": {},
   "outputs": [
    {
     "name": "stdout",
     "output_type": "stream",
     "text": [
      "Topic 0:\n",
      "['exposure', 'projects', 'growth', 'opportunities', 'good', 'place', 'work', 'great', 'life', 'balance'] \n",
      "\n",
      "Topic 1:\n",
      "['experience', 'skills', 'hgs', 'work', 'working', 'best', 'place', 'nice', 'environment', 'good'] \n",
      "\n",
      "Topic 2:\n",
      "['lot', 'challenges', 'technology', 'everyday', 'learning', 'day', 'technologies', 'things', 'learn', 'new'] \n",
      "\n",
      "Topic 3:\n",
      "['typical', 'management', 'learned', 'day', 'job', 'hardest', 'enjoyable', 'part', 'workers', 'co'] \n",
      "\n",
      "Topic 4:\n",
      "['worked', 'products', 'hr', 'much', 'services', 'employee', 'quality', 'project', 'bank', 'process'] \n",
      "\n"
     ]
    }
   ],
   "source": [
    "for topic in cluster_terms:\n",
    "    print('Topic ' + str(topic) + ':')\n",
    "    print(cluster_terms[topic], '\\n')"
   ]
  },
  {
   "cell_type": "markdown",
   "id": "4a9f6765",
   "metadata": {},
   "source": [
    "# 找評論面向：DBSCAN"
   ]
  },
  {
   "cell_type": "markdown",
   "id": "5c55175e",
   "metadata": {},
   "source": [
    "# min_samples=7"
   ]
  },
  {
   "cell_type": "code",
   "execution_count": 42,
   "id": "77dee297",
   "metadata": {},
   "outputs": [],
   "source": [
    "# 轉成 TF 向量\n",
    "\n",
    "TF_matrix = pd.DataFrame(columns = terms, index = doc_IDs)\n",
    "\n",
    "for i in doc_IDs:\n",
    "    \n",
    "    terms_of_docID = new_df3[new_df3['docID'] == i].term.values\n",
    "    \n",
    "    for t in terms:\n",
    "        if t not in terms_of_docID:\n",
    "            TF_matrix.at[i, t] = 0\n",
    "        else:\n",
    "            TF_matrix.at[i, t] = new_df3[(new_df3['docID'] == i) & (new_df3['term'] == t)].tf.values[0]"
   ]
  },
  {
   "cell_type": "code",
   "execution_count": 43,
   "id": "d36462e9",
   "metadata": {},
   "outputs": [
    {
     "data": {
      "text/html": [
       "<style>#sk-container-id-2 {color: black;background-color: white;}#sk-container-id-2 pre{padding: 0;}#sk-container-id-2 div.sk-toggleable {background-color: white;}#sk-container-id-2 label.sk-toggleable__label {cursor: pointer;display: block;width: 100%;margin-bottom: 0;padding: 0.3em;box-sizing: border-box;text-align: center;}#sk-container-id-2 label.sk-toggleable__label-arrow:before {content: \"▸\";float: left;margin-right: 0.25em;color: #696969;}#sk-container-id-2 label.sk-toggleable__label-arrow:hover:before {color: black;}#sk-container-id-2 div.sk-estimator:hover label.sk-toggleable__label-arrow:before {color: black;}#sk-container-id-2 div.sk-toggleable__content {max-height: 0;max-width: 0;overflow: hidden;text-align: left;background-color: #f0f8ff;}#sk-container-id-2 div.sk-toggleable__content pre {margin: 0.2em;color: black;border-radius: 0.25em;background-color: #f0f8ff;}#sk-container-id-2 input.sk-toggleable__control:checked~div.sk-toggleable__content {max-height: 200px;max-width: 100%;overflow: auto;}#sk-container-id-2 input.sk-toggleable__control:checked~label.sk-toggleable__label-arrow:before {content: \"▾\";}#sk-container-id-2 div.sk-estimator input.sk-toggleable__control:checked~label.sk-toggleable__label {background-color: #d4ebff;}#sk-container-id-2 div.sk-label input.sk-toggleable__control:checked~label.sk-toggleable__label {background-color: #d4ebff;}#sk-container-id-2 input.sk-hidden--visually {border: 0;clip: rect(1px 1px 1px 1px);clip: rect(1px, 1px, 1px, 1px);height: 1px;margin: -1px;overflow: hidden;padding: 0;position: absolute;width: 1px;}#sk-container-id-2 div.sk-estimator {font-family: monospace;background-color: #f0f8ff;border: 1px dotted black;border-radius: 0.25em;box-sizing: border-box;margin-bottom: 0.5em;}#sk-container-id-2 div.sk-estimator:hover {background-color: #d4ebff;}#sk-container-id-2 div.sk-parallel-item::after {content: \"\";width: 100%;border-bottom: 1px solid gray;flex-grow: 1;}#sk-container-id-2 div.sk-label:hover label.sk-toggleable__label {background-color: #d4ebff;}#sk-container-id-2 div.sk-serial::before {content: \"\";position: absolute;border-left: 1px solid gray;box-sizing: border-box;top: 0;bottom: 0;left: 50%;z-index: 0;}#sk-container-id-2 div.sk-serial {display: flex;flex-direction: column;align-items: center;background-color: white;padding-right: 0.2em;padding-left: 0.2em;position: relative;}#sk-container-id-2 div.sk-item {position: relative;z-index: 1;}#sk-container-id-2 div.sk-parallel {display: flex;align-items: stretch;justify-content: center;background-color: white;position: relative;}#sk-container-id-2 div.sk-item::before, #sk-container-id-2 div.sk-parallel-item::before {content: \"\";position: absolute;border-left: 1px solid gray;box-sizing: border-box;top: 0;bottom: 0;left: 50%;z-index: -1;}#sk-container-id-2 div.sk-parallel-item {display: flex;flex-direction: column;z-index: 1;position: relative;background-color: white;}#sk-container-id-2 div.sk-parallel-item:first-child::after {align-self: flex-end;width: 50%;}#sk-container-id-2 div.sk-parallel-item:last-child::after {align-self: flex-start;width: 50%;}#sk-container-id-2 div.sk-parallel-item:only-child::after {width: 0;}#sk-container-id-2 div.sk-dashed-wrapped {border: 1px dashed gray;margin: 0 0.4em 0.5em 0.4em;box-sizing: border-box;padding-bottom: 0.4em;background-color: white;}#sk-container-id-2 div.sk-label label {font-family: monospace;font-weight: bold;display: inline-block;line-height: 1.2em;}#sk-container-id-2 div.sk-label-container {text-align: center;}#sk-container-id-2 div.sk-container {/* jupyter's `normalize.less` sets `[hidden] { display: none; }` but bootstrap.min.css set `[hidden] { display: none !important; }` so we also need the `!important` here to be able to override the default hidden behavior on the sphinx rendered scikit-learn.org. See: https://github.com/scikit-learn/scikit-learn/issues/21755 */display: inline-block !important;position: relative;}#sk-container-id-2 div.sk-text-repr-fallback {display: none;}</style><div id=\"sk-container-id-2\" class=\"sk-top-container\"><div class=\"sk-text-repr-fallback\"><pre>DBSCAN(eps=1.2, min_samples=7)</pre><b>In a Jupyter environment, please rerun this cell to show the HTML representation or trust the notebook. <br />On GitHub, the HTML representation is unable to render, please try loading this page with nbviewer.org.</b></div><div class=\"sk-container\" hidden><div class=\"sk-item\"><div class=\"sk-estimator sk-toggleable\"><input class=\"sk-toggleable__control sk-hidden--visually\" id=\"sk-estimator-id-2\" type=\"checkbox\" checked><label for=\"sk-estimator-id-2\" class=\"sk-toggleable__label sk-toggleable__label-arrow\">DBSCAN</label><div class=\"sk-toggleable__content\"><pre>DBSCAN(eps=1.2, min_samples=7)</pre></div></div></div></div></div>"
      ],
      "text/plain": [
       "DBSCAN(eps=1.2, min_samples=7)"
      ]
     },
     "execution_count": 43,
     "metadata": {},
     "output_type": "execute_result"
    }
   ],
   "source": [
    "from sklearn.cluster import DBSCAN\n",
    "dbscan = DBSCAN(metric='euclidean', eps=1.2, min_samples=7)\n",
    "dbscan.fit(normalized_TFIDF_matrix.values)"
   ]
  },
  {
   "cell_type": "code",
   "execution_count": 44,
   "id": "eb5e94ad",
   "metadata": {},
   "outputs": [
    {
     "data": {
      "text/plain": [
       "array([-1, -1, -1, ..., -1,  2,  1], dtype=int64)"
      ]
     },
     "execution_count": 44,
     "metadata": {},
     "output_type": "execute_result"
    }
   ],
   "source": [
    "dbscan.labels_"
   ]
  },
  {
   "cell_type": "code",
   "execution_count": 45,
   "id": "f7ce9f6e",
   "metadata": {},
   "outputs": [
    {
     "name": "stdout",
     "output_type": "stream",
     "text": [
      "Counter({-1: 1321, 1: 37, 2: 20, 4: 18, 3: 14, 7: 12, 6: 11, 0: 7, 8: 7, 5: 6})\n"
     ]
    }
   ],
   "source": [
    "from collections import Counter\n",
    "print(Counter(dbscan.labels_))"
   ]
  },
  {
   "cell_type": "code",
   "execution_count": 46,
   "id": "279c0b4a",
   "metadata": {},
   "outputs": [
    {
     "data": {
      "text/plain": [
       "<mpl_toolkits.mplot3d.art3d.Path3DCollection at 0x2607d642a30>"
      ]
     },
     "execution_count": 46,
     "metadata": {},
     "output_type": "execute_result"
    },
    {
     "data": {
      "image/png": "[encoded data removed]",
      "text/plain": [
       "<Figure size 576x432 with 1 Axes>"
      ]
     },
     "metadata": {
      "needs_background": "light"
     },
     "output_type": "display_data"
    }
   ],
   "source": [
    "from mpl_toolkits.mplot3d import Axes3D \n",
    "from sklearn.decomposition import PCA   #降維度   \n",
    "\n",
    "fig = plt.figure(1, figsize=(8, 6))\n",
    "ax = Axes3D(fig, elev=-150, azim=110)\n",
    "X_reduced = PCA(n_components=3).fit_transform(TF_matrix.values)\n",
    "ax.scatter(X_reduced[:, 0], X_reduced[:, 1], X_reduced[:, 2], c=dbscan.labels_,\n",
    "          cmap=plt.cm.Set1, edgecolor='k', s=40)"
   ]
  },
  {
   "cell_type": "code",
   "execution_count": 47,
   "id": "f034c90e",
   "metadata": {},
   "outputs": [],
   "source": [
    "cluster_results = dbscan.labels_\n",
    "for cluster in set(cluster_results):\n",
    "    members = []\n",
    "    for i in range(len(cluster_results)):\n",
    "        if cluster_results[i] == cluster:\n",
    "            members.append(doc_IDs[i])\n",
    "    clusters[cluster] = members"
   ]
  },
  {
   "cell_type": "code",
   "execution_count": 48,
   "id": "ca395158",
   "metadata": {},
   "outputs": [],
   "source": [
    "# feature selection (to understand the cluster(topic) through important terms)\n",
    "\n",
    "# pointwise mutual information\n",
    "\n",
    "def term_count_PMI(counttc, ptc, pt, pc):\n",
    "    PMI = np.log2(ptc / (pt * pc))\n",
    "    return counttc * PMI\n",
    "\n",
    "cluster_terms = {}\n",
    "\n",
    "for cluster in clusters:\n",
    "    \n",
    "    scores = []\n",
    "    \n",
    "    # calculate probability of cluster\n",
    "    pc = len(clusters[cluster]) / len(doc_IDs)\n",
    "    \n",
    "    for t in terms:\n",
    "        \n",
    "        # calculate count of term t in cluster\n",
    "        counttc = 0\n",
    "        for member in clusters[cluster]:\n",
    "            terms_of_member = new_df3[new_df3['docID'] == member].term.values\n",
    "            if t in terms_of_member:\n",
    "                counttc += new_df3[(new_df3['docID'] == member) & (new_df3['term'] == t)].tf.values[0]\n",
    "        \n",
    "        if counttc == 0:\n",
    "            scores.append(0)\n",
    "        \n",
    "        else:\n",
    "            \n",
    "            # calculate probability of term t in cluster\n",
    "            ptc = 0\n",
    "            n = 0\n",
    "            for member in clusters[cluster]:\n",
    "                if t in new_df3[new_df3['docID'] == member].term.values:\n",
    "                    n += 1\n",
    "            ptc = n/len(doc_IDs)\n",
    "\n",
    "            # calculate probability of term t\n",
    "            pt = len(set(new_df3[new_df3['term'] == t].docID.values)) / len(doc_IDs)\n",
    "\n",
    "            # calcuate count * PMI\n",
    "            scores.append(term_count_PMI(counttc, ptc, pt, pc))\n",
    "    \n",
    "    # find 10 terms with largest score\n",
    "    cluster_terms[cluster] = [terms[i] for i in np.argsort(scores)[-10:]]"
   ]
  },
  {
   "cell_type": "code",
   "execution_count": 49,
   "id": "be6a83ef",
   "metadata": {},
   "outputs": [
    {
     "name": "stdout",
     "output_type": "stream",
     "text": [
      "Topic 0:\n",
      "['programmed', 'enable', 'lovable', 'across', 'glad', 'employees', 'know', 'enjoyed', 'thanks', 'sutherland'] \n",
      "\n",
      "Topic 1:\n",
      "['exposure', 'slow', 'career', 'assignments', 'good', 'work', 'growth', 'opportunities', 'place', 'great'] \n",
      "\n",
      "Topic 2:\n",
      "['every', 'learned', 'hardest', 'typical', 'day', 'workers', 'job', 'co', 'enjoyable', 'part'] \n",
      "\n",
      "Topic 3:\n",
      "['captive', 'freely', 'native', 'things', 'pleasure', 'good', 'overall', 'company', 'learned', 'lot'] \n",
      "\n",
      "Topic 4:\n",
      "['success', 'feedback', 'experience', 'us', 'hear', 'glad', 'thank', 'hi', 'wish', 'hgs'] \n",
      "\n",
      "Topic 5:\n",
      "['allowances', 'execution', 'guaranteed', 'standards', 'good', 'life', 'job', 'balance', 'security', 'maintained'] \n",
      "\n",
      "Topic 6:\n",
      "['bhubaneswar', 'working', 'give', 'friendly', 'environment', 'place', 'people', 'good', 'staff', 'nice'] \n",
      "\n",
      "Topic 7:\n",
      "['ltd', 'bonus', 'proud', 'things', 'loans', 'also', 'well', 'banks', 'hdfc', 'bank'] \n",
      "\n",
      "Topic 8:\n",
      "['fight', 'projects', 'balance', 'salary', 'available', 'work', 'option', 'ibm', 'home', 'hike'] \n",
      "\n",
      "Topic 9:\n",
      "['processing', 'system', 'services', 'amazon', 'sap', 'provides', 'employees', 'tcs', 'customer', 'employee'] \n",
      "\n",
      "Topic -1:\n",
      "['knowledge', 'learnt', 'various', 'development', 'customer', 'different', 'team', 'project', 'time', 'new'] \n",
      "\n"
     ]
    }
   ],
   "source": [
    "for topic in cluster_terms:\n",
    "    print('Topic ' + str(topic) + ':')\n",
    "    print(cluster_terms[topic], '\\n')"
   ]
  },
  {
   "cell_type": "markdown",
   "id": "e7b91cb1",
   "metadata": {},
   "source": [
    "# min_samples=8"
   ]
  },
  {
   "cell_type": "code",
   "execution_count": 50,
   "id": "1799994a",
   "metadata": {},
   "outputs": [
    {
     "data": {
      "text/html": [
       "<style>#sk-container-id-3 {color: black;background-color: white;}#sk-container-id-3 pre{padding: 0;}#sk-container-id-3 div.sk-toggleable {background-color: white;}#sk-container-id-3 label.sk-toggleable__label {cursor: pointer;display: block;width: 100%;margin-bottom: 0;padding: 0.3em;box-sizing: border-box;text-align: center;}#sk-container-id-3 label.sk-toggleable__label-arrow:before {content: \"▸\";float: left;margin-right: 0.25em;color: #696969;}#sk-container-id-3 label.sk-toggleable__label-arrow:hover:before {color: black;}#sk-container-id-3 div.sk-estimator:hover label.sk-toggleable__label-arrow:before {color: black;}#sk-container-id-3 div.sk-toggleable__content {max-height: 0;max-width: 0;overflow: hidden;text-align: left;background-color: #f0f8ff;}#sk-container-id-3 div.sk-toggleable__content pre {margin: 0.2em;color: black;border-radius: 0.25em;background-color: #f0f8ff;}#sk-container-id-3 input.sk-toggleable__control:checked~div.sk-toggleable__content {max-height: 200px;max-width: 100%;overflow: auto;}#sk-container-id-3 input.sk-toggleable__control:checked~label.sk-toggleable__label-arrow:before {content: \"▾\";}#sk-container-id-3 div.sk-estimator input.sk-toggleable__control:checked~label.sk-toggleable__label {background-color: #d4ebff;}#sk-container-id-3 div.sk-label input.sk-toggleable__control:checked~label.sk-toggleable__label {background-color: #d4ebff;}#sk-container-id-3 input.sk-hidden--visually {border: 0;clip: rect(1px 1px 1px 1px);clip: rect(1px, 1px, 1px, 1px);height: 1px;margin: -1px;overflow: hidden;padding: 0;position: absolute;width: 1px;}#sk-container-id-3 div.sk-estimator {font-family: monospace;background-color: #f0f8ff;border: 1px dotted black;border-radius: 0.25em;box-sizing: border-box;margin-bottom: 0.5em;}#sk-container-id-3 div.sk-estimator:hover {background-color: #d4ebff;}#sk-container-id-3 div.sk-parallel-item::after {content: \"\";width: 100%;border-bottom: 1px solid gray;flex-grow: 1;}#sk-container-id-3 div.sk-label:hover label.sk-toggleable__label {background-color: #d4ebff;}#sk-container-id-3 div.sk-serial::before {content: \"\";position: absolute;border-left: 1px solid gray;box-sizing: border-box;top: 0;bottom: 0;left: 50%;z-index: 0;}#sk-container-id-3 div.sk-serial {display: flex;flex-direction: column;align-items: center;background-color: white;padding-right: 0.2em;padding-left: 0.2em;position: relative;}#sk-container-id-3 div.sk-item {position: relative;z-index: 1;}#sk-container-id-3 div.sk-parallel {display: flex;align-items: stretch;justify-content: center;background-color: white;position: relative;}#sk-container-id-3 div.sk-item::before, #sk-container-id-3 div.sk-parallel-item::before {content: \"\";position: absolute;border-left: 1px solid gray;box-sizing: border-box;top: 0;bottom: 0;left: 50%;z-index: -1;}#sk-container-id-3 div.sk-parallel-item {display: flex;flex-direction: column;z-index: 1;position: relative;background-color: white;}#sk-container-id-3 div.sk-parallel-item:first-child::after {align-self: flex-end;width: 50%;}#sk-container-id-3 div.sk-parallel-item:last-child::after {align-self: flex-start;width: 50%;}#sk-container-id-3 div.sk-parallel-item:only-child::after {width: 0;}#sk-container-id-3 div.sk-dashed-wrapped {border: 1px dashed gray;margin: 0 0.4em 0.5em 0.4em;box-sizing: border-box;padding-bottom: 0.4em;background-color: white;}#sk-container-id-3 div.sk-label label {font-family: monospace;font-weight: bold;display: inline-block;line-height: 1.2em;}#sk-container-id-3 div.sk-label-container {text-align: center;}#sk-container-id-3 div.sk-container {/* jupyter's `normalize.less` sets `[hidden] { display: none; }` but bootstrap.min.css set `[hidden] { display: none !important; }` so we also need the `!important` here to be able to override the default hidden behavior on the sphinx rendered scikit-learn.org. See: https://github.com/scikit-learn/scikit-learn/issues/21755 */display: inline-block !important;position: relative;}#sk-container-id-3 div.sk-text-repr-fallback {display: none;}</style><div id=\"sk-container-id-3\" class=\"sk-top-container\"><div class=\"sk-text-repr-fallback\"><pre>DBSCAN(eps=1.2, min_samples=8)</pre><b>In a Jupyter environment, please rerun this cell to show the HTML representation or trust the notebook. <br />On GitHub, the HTML representation is unable to render, please try loading this page with nbviewer.org.</b></div><div class=\"sk-container\" hidden><div class=\"sk-item\"><div class=\"sk-estimator sk-toggleable\"><input class=\"sk-toggleable__control sk-hidden--visually\" id=\"sk-estimator-id-3\" type=\"checkbox\" checked><label for=\"sk-estimator-id-3\" class=\"sk-toggleable__label sk-toggleable__label-arrow\">DBSCAN</label><div class=\"sk-toggleable__content\"><pre>DBSCAN(eps=1.2, min_samples=8)</pre></div></div></div></div></div>"
      ],
      "text/plain": [
       "DBSCAN(eps=1.2, min_samples=8)"
      ]
     },
     "execution_count": 50,
     "metadata": {},
     "output_type": "execute_result"
    }
   ],
   "source": [
    "dbscan = DBSCAN(metric='euclidean', eps=1.2, min_samples=8)\n",
    "dbscan.fit(normalized_TFIDF_matrix.values)"
   ]
  },
  {
   "cell_type": "code",
   "execution_count": 51,
   "id": "75ad5814",
   "metadata": {},
   "outputs": [
    {
     "data": {
      "text/plain": [
       "array([-1, -1, -1, ..., -1,  1,  0], dtype=int64)"
      ]
     },
     "execution_count": 51,
     "metadata": {},
     "output_type": "execute_result"
    }
   ],
   "source": [
    "dbscan.labels_"
   ]
  },
  {
   "cell_type": "code",
   "execution_count": 52,
   "id": "65162015",
   "metadata": {},
   "outputs": [
    {
     "name": "stdout",
     "output_type": "stream",
     "text": [
      "Counter({-1: 1347, 0: 29, 1: 20, 3: 18, 6: 12, 5: 11, 2: 10, 4: 6})\n"
     ]
    }
   ],
   "source": [
    "from collections import Counter\n",
    "print(Counter(dbscan.labels_))"
   ]
  },
  {
   "cell_type": "code",
   "execution_count": 53,
   "id": "0f347395",
   "metadata": {},
   "outputs": [
    {
     "data": {
      "text/plain": [
       "<mpl_toolkits.mplot3d.art3d.Path3DCollection at 0x2607e7591f0>"
      ]
     },
     "execution_count": 53,
     "metadata": {},
     "output_type": "execute_result"
    },
    {
     "data": {
      "image/png": "[encoded data removed]",
      "text/plain": [
       "<Figure size 576x432 with 1 Axes>"
      ]
     },
     "metadata": {
      "needs_background": "light"
     },
     "output_type": "display_data"
    }
   ],
   "source": [
    "from mpl_toolkits.mplot3d import Axes3D \n",
    "from sklearn.decomposition import PCA   #降維度   \n",
    "\n",
    "fig = plt.figure(1, figsize=(8, 6))\n",
    "ax = Axes3D(fig, elev=-150, azim=110)\n",
    "X_reduced = PCA(n_components=3).fit_transform(TF_matrix.values)\n",
    "ax.scatter(X_reduced[:, 0], X_reduced[:, 1], X_reduced[:, 2], c=dbscan.labels_,\n",
    "          cmap=plt.cm.Set1, edgecolor='k', s=40)"
   ]
  },
  {
   "cell_type": "code",
   "execution_count": 54,
   "id": "c2b0cbeb",
   "metadata": {},
   "outputs": [],
   "source": [
    "cluster_results = dbscan.labels_\n",
    "for cluster in set(cluster_results):\n",
    "    members = []\n",
    "    for i in range(len(cluster_results)):\n",
    "        if cluster_results[i] == cluster:\n",
    "            members.append(doc_IDs[i])\n",
    "    clusters[cluster] = members"
   ]
  },
  {
   "cell_type": "code",
   "execution_count": 55,
   "id": "7d60b9a8",
   "metadata": {},
   "outputs": [],
   "source": [
    "# feature selection (to understand the cluster(topic) through important terms)\n",
    "\n",
    "# pointwise mutual information\n",
    "\n",
    "def term_count_PMI(counttc, ptc, pt, pc):\n",
    "    PMI = np.log2(ptc / (pt * pc))\n",
    "    return counttc * PMI\n",
    "\n",
    "cluster_terms = {}\n",
    "\n",
    "for cluster in clusters:\n",
    "    \n",
    "    scores = []\n",
    "    \n",
    "    # calculate probability of cluster\n",
    "    pc = len(clusters[cluster]) / len(doc_IDs)\n",
    "    \n",
    "    for t in terms:\n",
    "        \n",
    "        # calculate count of term t in cluster\n",
    "        counttc = 0\n",
    "        for member in clusters[cluster]:\n",
    "            terms_of_member = new_df3[new_df3['docID'] == member].term.values\n",
    "            if t in terms_of_member:\n",
    "                counttc += new_df3[(new_df3['docID'] == member) & (new_df3['term'] == t)].tf.values[0]\n",
    "        \n",
    "        if counttc == 0:\n",
    "            scores.append(0)\n",
    "        \n",
    "        else:\n",
    "            \n",
    "            # calculate probability of term t in cluster\n",
    "            ptc = 0\n",
    "            n = 0\n",
    "            for member in clusters[cluster]:\n",
    "                if t in new_df3[new_df3['docID'] == member].term.values:\n",
    "                    n += 1\n",
    "            ptc = n/len(doc_IDs)\n",
    "\n",
    "            # calculate probability of term t\n",
    "            pt = len(set(new_df3[new_df3['term'] == t].docID.values)) / len(doc_IDs)\n",
    "\n",
    "            # calcuate count * PMI\n",
    "            scores.append(term_count_PMI(counttc, ptc, pt, pc))\n",
    "    \n",
    "    # find 10 terms with largest score\n",
    "    cluster_terms[cluster] = [terms[i] for i in np.argsort(scores)[-10:]]"
   ]
  },
  {
   "cell_type": "code",
   "execution_count": 56,
   "id": "f698f9b0",
   "metadata": {},
   "outputs": [
    {
     "name": "stdout",
     "output_type": "stream",
     "text": [
      "Topic 0:\n",
      "['security', 'culture', 'grow', 'career', 'growth', 'work', 'good', 'opportunities', 'place', 'great'] \n",
      "\n",
      "Topic 1:\n",
      "['every', 'learned', 'hardest', 'typical', 'day', 'workers', 'job', 'co', 'enjoyable', 'part'] \n",
      "\n",
      "Topic 2:\n",
      "['culture', 'wants', 'carrer', 'captive', 'freely', 'things', 'pleasure', 'company', 'lot', 'learned'] \n",
      "\n",
      "Topic 3:\n",
      "['success', 'feedback', 'experience', 'us', 'hear', 'glad', 'thank', 'hi', 'wish', 'hgs'] \n",
      "\n",
      "Topic 4:\n",
      "['allowances', 'execution', 'guaranteed', 'standards', 'good', 'life', 'job', 'balance', 'security', 'maintained'] \n",
      "\n",
      "Topic 5:\n",
      "['bhubaneswar', 'working', 'give', 'friendly', 'environment', 'place', 'people', 'good', 'staff', 'nice'] \n",
      "\n",
      "Topic 6:\n",
      "['ltd', 'bonus', 'proud', 'things', 'loans', 'also', 'well', 'banks', 'hdfc', 'bank'] \n",
      "\n",
      "Topic 7:\n",
      "['ltd', 'bonus', 'proud', 'things', 'loans', 'also', 'well', 'banks', 'hdfc', 'bank'] \n",
      "\n",
      "Topic 8:\n",
      "['fight', 'projects', 'balance', 'salary', 'available', 'work', 'option', 'ibm', 'home', 'hike'] \n",
      "\n",
      "Topic 9:\n",
      "['processing', 'system', 'services', 'amazon', 'sap', 'provides', 'employees', 'tcs', 'customer', 'employee'] \n",
      "\n",
      "Topic -1:\n",
      "['team', 'projects', 'customer', 'worked', 'development', 'various', 'different', 'time', 'new', 'project'] \n",
      "\n"
     ]
    }
   ],
   "source": [
    "for topic in cluster_terms:\n",
    "    print('Topic ' + str(topic) + ':')\n",
    "    print(cluster_terms[topic], '\\n')"
   ]
  },
  {
   "cell_type": "markdown",
   "id": "75c3618a",
   "metadata": {},
   "source": [
    "# eps=1.25, min_samples=3"
   ]
  },
  {
   "cell_type": "code",
   "execution_count": 57,
   "id": "649f809b",
   "metadata": {},
   "outputs": [
    {
     "data": {
      "text/html": [
       "<style>#sk-container-id-4 {color: black;background-color: white;}#sk-container-id-4 pre{padding: 0;}#sk-container-id-4 div.sk-toggleable {background-color: white;}#sk-container-id-4 label.sk-toggleable__label {cursor: pointer;display: block;width: 100%;margin-bottom: 0;padding: 0.3em;box-sizing: border-box;text-align: center;}#sk-container-id-4 label.sk-toggleable__label-arrow:before {content: \"▸\";float: left;margin-right: 0.25em;color: #696969;}#sk-container-id-4 label.sk-toggleable__label-arrow:hover:before {color: black;}#sk-container-id-4 div.sk-estimator:hover label.sk-toggleable__label-arrow:before {color: black;}#sk-container-id-4 div.sk-toggleable__content {max-height: 0;max-width: 0;overflow: hidden;text-align: left;background-color: #f0f8ff;}#sk-container-id-4 div.sk-toggleable__content pre {margin: 0.2em;color: black;border-radius: 0.25em;background-color: #f0f8ff;}#sk-container-id-4 input.sk-toggleable__control:checked~div.sk-toggleable__content {max-height: 200px;max-width: 100%;overflow: auto;}#sk-container-id-4 input.sk-toggleable__control:checked~label.sk-toggleable__label-arrow:before {content: \"▾\";}#sk-container-id-4 div.sk-estimator input.sk-toggleable__control:checked~label.sk-toggleable__label {background-color: #d4ebff;}#sk-container-id-4 div.sk-label input.sk-toggleable__control:checked~label.sk-toggleable__label {background-color: #d4ebff;}#sk-container-id-4 input.sk-hidden--visually {border: 0;clip: rect(1px 1px 1px 1px);clip: rect(1px, 1px, 1px, 1px);height: 1px;margin: -1px;overflow: hidden;padding: 0;position: absolute;width: 1px;}#sk-container-id-4 div.sk-estimator {font-family: monospace;background-color: #f0f8ff;border: 1px dotted black;border-radius: 0.25em;box-sizing: border-box;margin-bottom: 0.5em;}#sk-container-id-4 div.sk-estimator:hover {background-color: #d4ebff;}#sk-container-id-4 div.sk-parallel-item::after {content: \"\";width: 100%;border-bottom: 1px solid gray;flex-grow: 1;}#sk-container-id-4 div.sk-label:hover label.sk-toggleable__label {background-color: #d4ebff;}#sk-container-id-4 div.sk-serial::before {content: \"\";position: absolute;border-left: 1px solid gray;box-sizing: border-box;top: 0;bottom: 0;left: 50%;z-index: 0;}#sk-container-id-4 div.sk-serial {display: flex;flex-direction: column;align-items: center;background-color: white;padding-right: 0.2em;padding-left: 0.2em;position: relative;}#sk-container-id-4 div.sk-item {position: relative;z-index: 1;}#sk-container-id-4 div.sk-parallel {display: flex;align-items: stretch;justify-content: center;background-color: white;position: relative;}#sk-container-id-4 div.sk-item::before, #sk-container-id-4 div.sk-parallel-item::before {content: \"\";position: absolute;border-left: 1px solid gray;box-sizing: border-box;top: 0;bottom: 0;left: 50%;z-index: -1;}#sk-container-id-4 div.sk-parallel-item {display: flex;flex-direction: column;z-index: 1;position: relative;background-color: white;}#sk-container-id-4 div.sk-parallel-item:first-child::after {align-self: flex-end;width: 50%;}#sk-container-id-4 div.sk-parallel-item:last-child::after {align-self: flex-start;width: 50%;}#sk-container-id-4 div.sk-parallel-item:only-child::after {width: 0;}#sk-container-id-4 div.sk-dashed-wrapped {border: 1px dashed gray;margin: 0 0.4em 0.5em 0.4em;box-sizing: border-box;padding-bottom: 0.4em;background-color: white;}#sk-container-id-4 div.sk-label label {font-family: monospace;font-weight: bold;display: inline-block;line-height: 1.2em;}#sk-container-id-4 div.sk-label-container {text-align: center;}#sk-container-id-4 div.sk-container {/* jupyter's `normalize.less` sets `[hidden] { display: none; }` but bootstrap.min.css set `[hidden] { display: none !important; }` so we also need the `!important` here to be able to override the default hidden behavior on the sphinx rendered scikit-learn.org. See: https://github.com/scikit-learn/scikit-learn/issues/21755 */display: inline-block !important;position: relative;}#sk-container-id-4 div.sk-text-repr-fallback {display: none;}</style><div id=\"sk-container-id-4\" class=\"sk-top-container\"><div class=\"sk-text-repr-fallback\"><pre>DBSCAN(eps=1.25, min_samples=3)</pre><b>In a Jupyter environment, please rerun this cell to show the HTML representation or trust the notebook. <br />On GitHub, the HTML representation is unable to render, please try loading this page with nbviewer.org.</b></div><div class=\"sk-container\" hidden><div class=\"sk-item\"><div class=\"sk-estimator sk-toggleable\"><input class=\"sk-toggleable__control sk-hidden--visually\" id=\"sk-estimator-id-4\" type=\"checkbox\" checked><label for=\"sk-estimator-id-4\" class=\"sk-toggleable__label sk-toggleable__label-arrow\">DBSCAN</label><div class=\"sk-toggleable__content\"><pre>DBSCAN(eps=1.25, min_samples=3)</pre></div></div></div></div></div>"
      ],
      "text/plain": [
       "DBSCAN(eps=1.25, min_samples=3)"
      ]
     },
     "execution_count": 57,
     "metadata": {},
     "output_type": "execute_result"
    }
   ],
   "source": [
    "dbscan = DBSCAN(metric='euclidean', eps=1.25, min_samples=3)\n",
    "dbscan.fit(normalized_TFIDF_matrix.values)"
   ]
  },
  {
   "cell_type": "code",
   "execution_count": 58,
   "id": "73f9b61c",
   "metadata": {},
   "outputs": [
    {
     "data": {
      "text/plain": [
       "array([ 0, -1,  0, ...,  0,  0,  0], dtype=int64)"
      ]
     },
     "execution_count": 58,
     "metadata": {},
     "output_type": "execute_result"
    }
   ],
   "source": [
    "dbscan.labels_"
   ]
  },
  {
   "cell_type": "code",
   "execution_count": 59,
   "id": "88a29055",
   "metadata": {},
   "outputs": [
    {
     "name": "stdout",
     "output_type": "stream",
     "text": [
      "Counter({0: 733, -1: 687, 1: 4, 10: 4, 3: 4, 8: 3, 7: 3, 4: 3, 9: 3, 2: 3, 5: 3, 6: 3})\n"
     ]
    }
   ],
   "source": [
    "from collections import Counter\n",
    "print(Counter(dbscan.labels_))"
   ]
  },
  {
   "cell_type": "code",
   "execution_count": 60,
   "id": "27970cff",
   "metadata": {},
   "outputs": [
    {
     "data": {
      "text/plain": [
       "<mpl_toolkits.mplot3d.art3d.Path3DCollection at 0x26072371d90>"
      ]
     },
     "execution_count": 60,
     "metadata": {},
     "output_type": "execute_result"
    },
    {
     "data": {
      "image/png": "[encoded data removed]",
      "text/plain": [
       "<Figure size 576x432 with 1 Axes>"
      ]
     },
     "metadata": {
      "needs_background": "light"
     },
     "output_type": "display_data"
    }
   ],
   "source": [
    "from mpl_toolkits.mplot3d import Axes3D \n",
    "from sklearn.decomposition import PCA   #降維度   \n",
    "\n",
    "fig = plt.figure(1, figsize=(8, 6))\n",
    "ax = Axes3D(fig, elev=-150, azim=110)\n",
    "X_reduced = PCA(n_components=3).fit_transform(TF_matrix.values)\n",
    "ax.scatter(X_reduced[:, 0], X_reduced[:, 1], X_reduced[:, 2], c=dbscan.labels_,\n",
    "          cmap=plt.cm.Set1, edgecolor='k', s=40)"
   ]
  },
  {
   "cell_type": "code",
   "execution_count": 61,
   "id": "34c35662",
   "metadata": {},
   "outputs": [],
   "source": [
    "cluster_results = dbscan.labels_\n",
    "for cluster in set(cluster_results):\n",
    "    members = []\n",
    "    for i in range(len(cluster_results)):\n",
    "        if cluster_results[i] == cluster:\n",
    "            members.append(doc_IDs[i])\n",
    "    clusters[cluster] = members"
   ]
  },
  {
   "cell_type": "code",
   "execution_count": 62,
   "id": "c65e1a75",
   "metadata": {},
   "outputs": [],
   "source": [
    "# feature selection (to understand the cluster(topic) through important terms)\n",
    "\n",
    "# pointwise mutual information\n",
    "\n",
    "def term_count_PMI(counttc, ptc, pt, pc):\n",
    "    PMI = np.log2(ptc / (pt * pc))\n",
    "    return counttc * PMI\n",
    "\n",
    "cluster_terms = {}\n",
    "\n",
    "for cluster in clusters:\n",
    "    \n",
    "    scores = []\n",
    "    \n",
    "    # calculate probability of cluster\n",
    "    pc = len(clusters[cluster]) / len(doc_IDs)\n",
    "    \n",
    "    for t in terms:\n",
    "        \n",
    "        # calculate count of term t in cluster\n",
    "        counttc = 0\n",
    "        for member in clusters[cluster]:\n",
    "            terms_of_member = new_df3[new_df3['docID'] == member].term.values\n",
    "            if t in terms_of_member:\n",
    "                counttc += new_df3[(new_df3['docID'] == member) & (new_df3['term'] == t)].tf.values[0]\n",
    "        \n",
    "        if counttc == 0:\n",
    "            scores.append(0)\n",
    "        \n",
    "        else:\n",
    "            \n",
    "            # calculate probability of term t in cluster\n",
    "            ptc = 0\n",
    "            n = 0\n",
    "            for member in clusters[cluster]:\n",
    "                if t in new_df3[new_df3['docID'] == member].term.values:\n",
    "                    n += 1\n",
    "            ptc = n/len(doc_IDs)\n",
    "\n",
    "            # calculate probability of term t\n",
    "            pt = len(set(new_df3[new_df3['term'] == t].docID.values)) / len(doc_IDs)\n",
    "\n",
    "            # calcuate count * PMI\n",
    "            scores.append(term_count_PMI(counttc, ptc, pt, pc))\n",
    "    \n",
    "    # find 10 terms with largest score\n",
    "    cluster_terms[cluster] = [terms[i] for i in np.argsort(scores)[-10:]]"
   ]
  },
  {
   "cell_type": "code",
   "execution_count": 63,
   "id": "f256d6de",
   "metadata": {},
   "outputs": [
    {
     "name": "stdout",
     "output_type": "stream",
     "text": [
      "Topic 0:\n",
      "['management', 'best', 'friendly', 'nice', 'life', 'balance', 'great', 'place', 'work', 'good'] \n",
      "\n",
      "Topic 1:\n",
      "['welcome', 'achivement', 'price', 'plan', 'best', 'pru', 'prudential', 'insurance', 'product', 'icici'] \n",
      "\n",
      "Topic 2:\n",
      "['foundation', 'learned', 'compulsory', 'methodologies', 'bus', 'ambigious', 'visual', 'completed', 'manual', 'testing'] \n",
      "\n",
      "Topic 3:\n",
      "['generally', 'benefits', 'permits', 'instance', 'great', 'managers', 'approachable', 'guidance', 'engagements', 'kind'] \n",
      "\n",
      "Topic 4:\n",
      "['denied', 'extreme', 'unsupportive', 'bais', 'memo', 'disrespect', 'demise', 'family', 'even', 'leaves'] \n",
      "\n",
      "Topic 5:\n",
      "['secured', 'automation', 'mumbai', 'unless', 'management', 'ruined', 'unfriendly', 'forced', 'basically', 'worst'] \n",
      "\n",
      "Topic 6:\n",
      "['ability', 'materials', 'quick', 'training', 'video', 'tutorials', 'awarness', 'learn', 'online', 'programms'] \n",
      "\n",
      "Topic 7:\n",
      "['shifts', 'language', 'sla', 'management', 'barrier', 'reasons', 'goa', 'want', 'chennai', 'relocate'] \n",
      "\n",
      "Topic 8:\n",
      "['pleasant', 'improved', 'confidence', 'feature', 'plus', 'advisory', 'combination', 'big', 'outsource', 'felt'] \n",
      "\n",
      "Topic 9:\n",
      "['partner', 'priorities', 'targetes', 'zonal', 'day', 'reporting', 'channel', 'morning', 'meeting', 'sales'] \n",
      "\n",
      "Topic -1:\n",
      "['daily', 'quality', 'handling', 'business', 'sales', 'make', 'activities', 'customer', 'project', 'time'] \n",
      "\n",
      "Topic 10:\n",
      "['opportunities', 'prospects', 'seasons', 'deserving', 'disadvantage', 'advantage', 'differs', 'anybody', 'politics', 'stressful'] \n",
      "\n"
     ]
    }
   ],
   "source": [
    "for topic in cluster_terms:\n",
    "    print('Topic ' + str(topic) + ':')\n",
    "    print(cluster_terms[topic], '\\n')"
   ]
  },
  {
   "cell_type": "markdown",
   "id": "f66a161e",
   "metadata": {},
   "source": [
    "# 找評論面向：SVD"
   ]
  },
  {
   "cell_type": "code",
   "execution_count": 64,
   "id": "e4126854",
   "metadata": {},
   "outputs": [],
   "source": [
    "# SVD (10 個 topic)\n",
    "\n",
    "from sklearn.decomposition import TruncatedSVD\n",
    "\n",
    "model_SVD = TruncatedSVD(n_components = 10)\n",
    "vectors_SVD = model_SVD.fit_transform(normalized_TFIDF_matrix)"
   ]
  },
  {
   "cell_type": "code",
   "execution_count": 65,
   "id": "02d4cd80",
   "metadata": {},
   "outputs": [
    {
     "data": {
      "text/plain": [
       "array([[ 0.15236508, -0.02999594,  0.10994598, ...,  0.0118458 ,\n",
       "         0.0442833 ,  0.01345789],\n",
       "       [ 0.15132058,  0.0300715 ,  0.08424238, ...,  0.00785429,\n",
       "        -0.03321463, -0.06741745],\n",
       "       [ 0.23845633, -0.17076566,  0.04593912, ...,  0.03322007,\n",
       "         0.06261393,  0.11406244],\n",
       "       ...,\n",
       "       [ 0.0932965 ,  0.1260583 , -0.06336584, ...,  0.0865571 ,\n",
       "        -0.11610345,  0.0662633 ],\n",
       "       [ 0.20871889,  0.29053955, -0.13700644, ...,  0.03503566,\n",
       "         0.06534406, -0.02067336],\n",
       "       [ 0.25667038, -0.21187114,  0.23120386, ...,  0.14414716,\n",
       "         0.27321084,  0.07128998]])"
      ]
     },
     "execution_count": 65,
     "metadata": {},
     "output_type": "execute_result"
    }
   ],
   "source": [
    "vectors_SVD"
   ]
  },
  {
   "cell_type": "code",
   "execution_count": 66,
   "id": "36444b4a",
   "metadata": {},
   "outputs": [
    {
     "name": "stdout",
     "output_type": "stream",
     "text": [
      "Topic 0:\n",
      "['life', 'environment', 'job', 'culture', 'management', 'great', 'place', 'company', 'work', 'good'] \n",
      "\n",
      "Topic 1:\n",
      "['job', 'balance', 'enjoyable', 'place', 'day', 'great', 'workers', 'learned', 'co', 'part'] \n",
      "\n",
      "Topic 2:\n",
      "['company', 'great', 'part', 'lot', 'job', 'life', 'balance', 'new', 'learn', 'things'] \n",
      "\n",
      "Topic 3:\n",
      "['bank', 'learning', 'part', 'nice', 'also', 'opportunities', 'company', 'best', 'place', 'great'] \n",
      "\n",
      "Topic 4:\n",
      "['working', 'one', 'balance', 'life', 'good', 'place', 'company', 'best', 'environment', 'nice'] \n",
      "\n",
      "Topic 5:\n",
      "['hgs', 'security', 'things', 'new', 'balance', 'life', 'learn', 'good', 'best', 'great'] \n",
      "\n",
      "Topic 6:\n",
      "['part', 'life', 'growth', 'learn', 'great', 'working', 'new', 'company', 'learned', 'lot'] \n",
      "\n",
      "Topic 7:\n",
      "['experience', 'friendly', 'lot', 'co', 'workers', 'learned', 'project', 'best', 'place', 'team'] \n",
      "\n",
      "Topic 8:\n",
      "['balance', 'also', 'hgs', 'good', 'bank', 'new', 'environment', 'nice', 'tcs', 'job'] \n",
      "\n",
      "Topic 9:\n",
      "['tcs', 'time', 'get', 'axis', 'nice', 'growth', 'hdfc', 'career', 'best', 'bank'] \n",
      "\n"
     ]
    }
   ],
   "source": [
    "# Topics\n",
    "for i in range(len(model_SVD.components_)):\n",
    "    scores = model_SVD.components_[i]\n",
    "    important_terms = [terms[i] for i in np.argsort(abs(scores))[-10:]]\n",
    "    print('Topic ' + str(i) + ':')\n",
    "    print(important_terms, '\\n')"
   ]
  },
  {
   "cell_type": "code",
   "execution_count": 67,
   "id": "0a936401",
   "metadata": {},
   "outputs": [],
   "source": [
    "# SVD (5 個 topic)\n",
    "\n",
    "from sklearn.decomposition import TruncatedSVD\n",
    "\n",
    "model_SVD = TruncatedSVD(n_components = 5)\n",
    "vectors_SVD = model_SVD.fit_transform(normalized_TFIDF_matrix)"
   ]
  },
  {
   "cell_type": "code",
   "execution_count": 68,
   "id": "2a76cf63",
   "metadata": {},
   "outputs": [
    {
     "data": {
      "text/plain": [
       "array([[ 0.15236628, -0.03126066,  0.11056009,  0.03123429, -0.05626035],\n",
       "       [ 0.15132056,  0.02733757,  0.08158317, -0.03357356, -0.00792371],\n",
       "       [ 0.23845135, -0.17392443,  0.04664797, -0.10306361, -0.02341516],\n",
       "       ...,\n",
       "       [ 0.09329625,  0.12469212, -0.07015166,  0.06376009,  0.05875658],\n",
       "       [ 0.20872031,  0.29032836, -0.13727121,  0.1093824 , -0.02777386],\n",
       "       [ 0.25667101, -0.21297443,  0.23486715,  0.16874651, -0.12610884]])"
      ]
     },
     "execution_count": 68,
     "metadata": {},
     "output_type": "execute_result"
    }
   ],
   "source": [
    "vectors_SVD"
   ]
  },
  {
   "cell_type": "code",
   "execution_count": 69,
   "id": "c007d7dc",
   "metadata": {},
   "outputs": [
    {
     "name": "stdout",
     "output_type": "stream",
     "text": [
      "Topic 0:\n",
      "['life', 'environment', 'job', 'culture', 'management', 'great', 'place', 'company', 'work', 'good'] \n",
      "\n",
      "Topic 1:\n",
      "['job', 'balance', 'enjoyable', 'place', 'great', 'day', 'workers', 'learned', 'part', 'co'] \n",
      "\n",
      "Topic 2:\n",
      "['company', 'great', 'part', 'lot', 'job', 'life', 'balance', 'new', 'learn', 'things'] \n",
      "\n",
      "Topic 3:\n",
      "['learning', 'workers', 'nice', 'also', 'co', 'opportunities', 'company', 'best', 'place', 'great'] \n",
      "\n",
      "Topic 4:\n",
      "['balance', 'working', 'team', 'good', 'life', 'company', 'place', 'best', 'environment', 'nice'] \n",
      "\n"
     ]
    }
   ],
   "source": [
    "# Topics\n",
    "for i in range(len(model_SVD.components_)):\n",
    "    scores = model_SVD.components_[i]\n",
    "    important_terms = [terms[i] for i in np.argsort(abs(scores))[-10:]]\n",
    "    print('Topic ' + str(i) + ':')\n",
    "    print(important_terms, '\\n')"
   ]
  },
  {
   "cell_type": "markdown",
   "id": "d18c657d",
   "metadata": {},
   "source": [
    "# 找評論面向：LDA"
   ]
  },
  {
   "cell_type": "code",
   "execution_count": 70,
   "id": "3bf2cfd7",
   "metadata": {},
   "outputs": [],
   "source": [
    "# 轉成 TF 向量\n",
    "\n",
    "TF_matrix = pd.DataFrame(columns = terms, index = doc_IDs)\n",
    "\n",
    "for i in doc_IDs:\n",
    "    \n",
    "    terms_of_docID = new_df3[new_df3['docID'] == i].term.values\n",
    "    \n",
    "    for t in terms:\n",
    "        if t not in terms_of_docID:\n",
    "            TF_matrix.at[i, t] = 0\n",
    "        else:\n",
    "            TF_matrix.at[i, t] = new_df3[(new_df3['docID'] == i) & (new_df3['term'] == t)].tf.values[0]\n"
   ]
  },
  {
   "cell_type": "code",
   "execution_count": 71,
   "id": "6ef074e6",
   "metadata": {},
   "outputs": [],
   "source": [
    "# LDA (10 個 topic)\n",
    "\n",
    "from sklearn.decomposition import LatentDirichletAllocation as LDA\n",
    "\n",
    "model_LDA = LDA(n_components = 10)\n",
    "vectors_LDA = model_LDA.fit_transform(TF_matrix)"
   ]
  },
  {
   "cell_type": "code",
   "execution_count": 72,
   "id": "29479cf7",
   "metadata": {},
   "outputs": [
    {
     "data": {
      "text/plain": [
       "array([[0.0032263 , 0.00322687, 0.61773412, ..., 0.0032267 , 0.00322658,\n",
       "        0.00322603],\n",
       "       [0.00285761, 0.39761019, 0.00285807, ..., 0.00285749, 0.00285773,\n",
       "        0.00285785],\n",
       "       [0.00454632, 0.00454651, 0.57432416, ..., 0.0045457 , 0.38930674,\n",
       "        0.00454613],\n",
       "       ...,\n",
       "       [0.00909166, 0.81987752, 0.00909299, ..., 0.10738494, 0.00909257,\n",
       "        0.00909191],\n",
       "       [0.00416702, 0.77788086, 0.00416787, ..., 0.00416732, 0.00416756,\n",
       "        0.0041674 ],\n",
       "       [0.00909191, 0.00909234, 0.42301343, ..., 0.00909281, 0.5042491 ,\n",
       "        0.00909166]])"
      ]
     },
     "execution_count": 72,
     "metadata": {},
     "output_type": "execute_result"
    }
   ],
   "source": [
    "vectors_LDA"
   ]
  },
  {
   "cell_type": "code",
   "execution_count": 73,
   "id": "fde15008",
   "metadata": {},
   "outputs": [
    {
     "name": "stdout",
     "output_type": "stream",
     "text": [
      "Topic 0:\n",
      "['learning', 'one', 'process', 'life', 'learn', 'work', 'also', 'management', 'company', 'good'] \n",
      "\n",
      "Topic 1:\n",
      "['workers', 'co', 'culture', 'company', 'working', 'part', 'job', 'management', 'work', 'good'] \n",
      "\n",
      "Topic 2:\n",
      "['culture', 'learn', 'management', 'life', 'working', 'company', 'place', 'great', 'good', 'work'] \n",
      "\n",
      "Topic 3:\n",
      "['experience', 'job', 'working', 'process', 'like', 'learned', 'one', 'lot', 'work', 'company'] \n",
      "\n",
      "Topic 4:\n",
      "['company', 'learned', 'learning', 'day', 'best', 'part', 'time', 'management', 'team', 'work'] \n",
      "\n",
      "Topic 5:\n",
      "['payroll', 'good', 'management', 'gud', 'co', 'many', 'learned', 'testing', 'working', 'team'] \n",
      "\n",
      "Topic 6:\n",
      "['wish', 'hi', 'employees', 'experience', 'thank', 'best', 'work', 'hgs', 'team', 'good'] \n",
      "\n",
      "Topic 7:\n",
      "['system', 'work', 'process', 'campaign', 'day', 'different', 'people', 'enjoyable', 'part', 'job'] \n",
      "\n",
      "Topic 8:\n",
      "['best', 'experience', 'people', 'one', 'place', 'new', 'career', 'company', 'good', 'work'] \n",
      "\n",
      "Topic 9:\n",
      "['friendly', 'different', 'customer', 'best', 'amazon', 'excellent', 'one', 'employee', 'company', 'work'] \n",
      "\n"
     ]
    }
   ],
   "source": [
    "# Topics\n",
    "for i in range(len(model_LDA.components_)):\n",
    "    scores = model_LDA.components_[i]\n",
    "    important_terms = [terms[i] for i in np.argsort(abs(scores))[-10:]]\n",
    "    print('Topic ' + str(i) + ':')\n",
    "    print(important_terms, '\\n')"
   ]
  },
  {
   "cell_type": "code",
   "execution_count": 74,
   "id": "b4a945dd",
   "metadata": {},
   "outputs": [],
   "source": [
    "# LDA (5 個 topic)\n",
    "\n",
    "from sklearn.decomposition import LatentDirichletAllocation as LDA\n",
    "\n",
    "model_LDA = LDA(n_components = 5)\n",
    "vectors_LDA = model_LDA.fit_transform(TF_matrix)"
   ]
  },
  {
   "cell_type": "code",
   "execution_count": 75,
   "id": "d14f91e4",
   "metadata": {},
   "outputs": [
    {
     "data": {
      "text/plain": [
       "array([[0.37469362, 0.00654709, 0.00655047, 0.60566428, 0.00654453],\n",
       "       [0.00584637, 0.25831179, 0.00581159, 0.7241721 , 0.00585815],\n",
       "       [0.063876  , 0.00916734, 0.00910651, 0.9086921 , 0.00915805],\n",
       "       ...,\n",
       "       [0.01837401, 0.01824931, 0.01826349, 0.01896009, 0.92615309],\n",
       "       [0.00848835, 0.00843005, 0.00837208, 0.60739606, 0.36731347],\n",
       "       [0.0183758 , 0.01827137, 0.01818807, 0.9268799 , 0.01828485]])"
      ]
     },
     "execution_count": 75,
     "metadata": {},
     "output_type": "execute_result"
    }
   ],
   "source": [
    "vectors_LDA"
   ]
  },
  {
   "cell_type": "code",
   "execution_count": 76,
   "id": "802ffb30",
   "metadata": {},
   "outputs": [
    {
     "name": "stdout",
     "output_type": "stream",
     "text": [
      "Topic 0:\n",
      "['different', 'company', 'projects', 'learning', 'employees', 'new', 'management', 'time', 'good', 'team'] \n",
      "\n",
      "Topic 1:\n",
      "['business', 'one', 'years', 'experience', 'banking', 'company', 'hdfc', 'employees', 'management', 'bank'] \n",
      "\n",
      "Topic 2:\n",
      "['experience', 'customers', 'daily', 'hi', 'handling', 'process', 'team', 'customer', 'hgs', 'management'] \n",
      "\n",
      "Topic 3:\n",
      "['life', 'environment', 'culture', 'working', 'great', 'place', 'management', 'company', 'good', 'work'] \n",
      "\n",
      "Topic 4:\n",
      "['new', 'workers', 'day', 'working', 'co', 'enjoyable', 'learned', 'job', 'work', 'part'] \n",
      "\n"
     ]
    }
   ],
   "source": [
    "# Topics\n",
    "for i in range(len(model_LDA.components_)):\n",
    "    scores = model_LDA.components_[i]\n",
    "    important_terms = [terms[i] for i in np.argsort(abs(scores))[-10:]]\n",
    "    print('Topic ' + str(i) + ':')\n",
    "    print(important_terms, '\\n')"
   ]
  }
 ],
 "metadata": {
  "kernelspec": {
   "display_name": "Python 3 (ipykernel)",
   "language": "python",
   "name": "python3"
  },
  "language_info": {
   "codemirror_mode": {
    "name": "ipython",
    "version": 3
   },
   "file_extension": ".py",
   "mimetype": "text/x-python",
   "name": "python",
   "nbconvert_exporter": "python",
   "pygments_lexer": "ipython3",
   "version": "3.9.7"
  }
 },
 "nbformat": 4,
 "nbformat_minor": 5
}
