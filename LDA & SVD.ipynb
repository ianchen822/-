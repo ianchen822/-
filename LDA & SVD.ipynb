{
 "cells": [
  {
   "cell_type": "markdown",
   "id": "e727eec7",
   "metadata": {},
   "source": [
    "# 讀取評論資料和欄位處理"
   ]
  },
  {
   "cell_type": "code",
   "execution_count": 1,
   "id": "1e6de71e",
   "metadata": {},
   "outputs": [],
   "source": [
    "# read json file\n",
    "\n",
    "import json\n",
    "import pandas as pd\n",
    "\n",
    "with open('./Employee Review about their organization.json') as file:\n",
    "    contents = file.read()\n",
    "    contents = eval(contents)\n",
    "    \n",
    "df_list = []\n",
    "for i in range(len(contents)):\n",
    "    row_list = []\n",
    "    row = contents[i]\n",
    "    row_list.append(row[\"ReviewTitle\"])\n",
    "    row_list.append(row[\"CompleteReview\"])\n",
    "    row_list.append(row[\"URL\"])\n",
    "    row_list.append(row[\"Rating\"])\n",
    "    row_list.append(row[\"ReviewDetails\"])\n",
    "    df_list.append(row_list)\n",
    "    \n",
    "df = pd.DataFrame(data = df_list, columns = ['ReviewTitle', 'CompleteReview', 'URL', 'Rating', 'ReviewDetails'])"
   ]
  },
  {
   "cell_type": "code",
   "execution_count": 2,
   "id": "f1c9ba8a",
   "metadata": {},
   "outputs": [
    {
     "data": {
      "text/html": [
       "<div>\n",
       "<style scoped>\n",
       "    .dataframe tbody tr th:only-of-type {\n",
       "        vertical-align: middle;\n",
       "    }\n",
       "\n",
       "    .dataframe tbody tr th {\n",
       "        vertical-align: top;\n",
       "    }\n",
       "\n",
       "    .dataframe thead th {\n",
       "        text-align: right;\n",
       "    }\n",
       "</style>\n",
       "<table border=\"1\" class=\"dataframe\">\n",
       "  <thead>\n",
       "    <tr style=\"text-align: right;\">\n",
       "      <th></th>\n",
       "      <th>ReviewTitle</th>\n",
       "      <th>CompleteReview</th>\n",
       "      <th>Company</th>\n",
       "      <th>isCurrentEmployee</th>\n",
       "      <th>Rating</th>\n",
       "    </tr>\n",
       "  </thead>\n",
       "  <tbody>\n",
       "    <tr>\n",
       "      <th>0</th>\n",
       "      <td>Productive</td>\n",
       "      <td>Good company, cool workplace, work load little...</td>\n",
       "      <td>Reliance-Industries-Ltd</td>\n",
       "      <td>1</td>\n",
       "      <td>3.0</td>\n",
       "    </tr>\n",
       "    <tr>\n",
       "      <th>1</th>\n",
       "      <td>Stressful</td>\n",
       "      <td>1. Need to work on boss's whims and fancies 2....</td>\n",
       "      <td>Reliance-Industries-Ltd</td>\n",
       "      <td>0</td>\n",
       "      <td>3.0</td>\n",
       "    </tr>\n",
       "    <tr>\n",
       "      <th>2</th>\n",
       "      <td>Good Company for Every employee</td>\n",
       "      <td>Good company for every Engineers dream, Full M...</td>\n",
       "      <td>Reliance-Industries-Ltd</td>\n",
       "      <td>0</td>\n",
       "      <td>5.0</td>\n",
       "    </tr>\n",
       "    <tr>\n",
       "      <th>3</th>\n",
       "      <td>Productive</td>\n",
       "      <td>I am just pass out bsc in chemistry Typical da...</td>\n",
       "      <td>Reliance-Industries-Ltd</td>\n",
       "      <td>1</td>\n",
       "      <td>5.0</td>\n",
       "    </tr>\n",
       "    <tr>\n",
       "      <th>4</th>\n",
       "      <td>Non productive</td>\n",
       "      <td>Not so fun at work just blame games  Target pe...</td>\n",
       "      <td>Reliance-Industries-Ltd</td>\n",
       "      <td>0</td>\n",
       "      <td>1.0</td>\n",
       "    </tr>\n",
       "  </tbody>\n",
       "</table>\n",
       "</div>"
      ],
      "text/plain": [
       "                       ReviewTitle  \\\n",
       "0                       Productive   \n",
       "1                        Stressful   \n",
       "2  Good Company for Every employee   \n",
       "3                       Productive   \n",
       "4                   Non productive   \n",
       "\n",
       "                                      CompleteReview                  Company  \\\n",
       "0  Good company, cool workplace, work load little...  Reliance-Industries-Ltd   \n",
       "1  1. Need to work on boss's whims and fancies 2....  Reliance-Industries-Ltd   \n",
       "2  Good company for every Engineers dream, Full M...  Reliance-Industries-Ltd   \n",
       "3  I am just pass out bsc in chemistry Typical da...  Reliance-Industries-Ltd   \n",
       "4  Not so fun at work just blame games  Target pe...  Reliance-Industries-Ltd   \n",
       "\n",
       "   isCurrentEmployee Rating  \n",
       "0                  1    3.0  \n",
       "1                  0    3.0  \n",
       "2                  0    5.0  \n",
       "3                  1    5.0  \n",
       "4                  0    1.0  "
      ]
     },
     "execution_count": 2,
     "metadata": {},
     "output_type": "execute_result"
    }
   ],
   "source": [
    "# 欄位處理\n",
    "\n",
    "df['Company'] = df.URL.str.split('/')[:].str[4]\n",
    "df['isCurrentEmployee'] = df.ReviewDetails.apply(lambda x: 0 if 'Former Employee' in x else 1)\n",
    "rating = df.pop('Rating')\n",
    "df['Rating'] = rating\n",
    "df.drop(columns = ['URL', 'ReviewDetails'], inplace = True)\n",
    "df.head()"
   ]
  },
  {
   "cell_type": "code",
   "execution_count": 3,
   "id": "12c3b528",
   "metadata": {},
   "outputs": [
    {
     "data": {
      "text/plain": [
       "145209"
      ]
     },
     "execution_count": 3,
     "metadata": {},
     "output_type": "execute_result"
    }
   ],
   "source": [
    "# 有 14 多萬筆評論\n",
    "len(df)"
   ]
  },
  {
   "cell_type": "code",
   "execution_count": 4,
   "id": "eb2e4385",
   "metadata": {},
   "outputs": [
    {
     "data": {
      "text/plain": [
       "4.053660585776364"
      ]
     },
     "execution_count": 4,
     "metadata": {},
     "output_type": "execute_result"
    }
   ],
   "source": [
    "df['Rating'] = df['Rating'].astype(float)\n",
    "df['Rating'].mean()"
   ]
  },
  {
   "cell_type": "code",
   "execution_count": 5,
   "id": "01c91cf8",
   "metadata": {},
   "outputs": [
    {
     "name": "stderr",
     "output_type": "stream",
     "text": [
      "C:\\Users\\ChenPoYen\\anaconda3\\lib\\site-packages\\pandas\\core\\indexing.py:1732: SettingWithCopyWarning: \n",
      "A value is trying to be set on a copy of a slice from a DataFrame\n",
      "\n",
      "See the caveats in the documentation: https://pandas.pydata.org/pandas-docs/stable/user_guide/indexing.html#returning-a-view-versus-a-copy\n",
      "  self._setitem_single_block(indexer, value, name)\n"
     ]
    }
   ],
   "source": [
    "mean = df['Rating'].mean()\n",
    "df['Rating'].iloc[df['Rating'] < mean] = 0\n",
    "df['Rating'].iloc[df['Rating'] >= mean] = 1"
   ]
  },
  {
   "cell_type": "code",
   "execution_count": 6,
   "id": "52347b6f",
   "metadata": {},
   "outputs": [
    {
     "data": {
      "text/plain": [
       "0         0.0\n",
       "1         0.0\n",
       "2         1.0\n",
       "3         1.0\n",
       "4         0.0\n",
       "         ... \n",
       "145204    0.0\n",
       "145205    0.0\n",
       "145206    0.0\n",
       "145207    0.0\n",
       "145208    1.0\n",
       "Name: Rating, Length: 145209, dtype: float64"
      ]
     },
     "execution_count": 6,
     "metadata": {},
     "output_type": "execute_result"
    }
   ],
   "source": [
    "df['Rating']"
   ]
  },
  {
   "cell_type": "code",
   "execution_count": 7,
   "id": "d569dda7",
   "metadata": {},
   "outputs": [],
   "source": [
    "df_copy = df.copy()"
   ]
  },
  {
   "cell_type": "code",
   "execution_count": 8,
   "id": "7e7da13e",
   "metadata": {},
   "outputs": [],
   "source": [
    "from sklearn.model_selection import train_test_split\n",
    "X = df.iloc[:, :-1]\n",
    "y = df.iloc[:, -1]\n",
    "\n",
    "#先抽 10 %\n",
    "X_other, X_use, y_other, y_use = train_test_split(X, y, test_size = 0.1, random_state = 8, stratify = y)"
   ]
  },
  {
   "cell_type": "code",
   "execution_count": 9,
   "id": "21447fb4",
   "metadata": {},
   "outputs": [
    {
     "data": {
      "text/plain": [
       "14521"
      ]
     },
     "execution_count": 9,
     "metadata": {},
     "output_type": "execute_result"
    }
   ],
   "source": [
    "len(X_use)"
   ]
  },
  {
   "cell_type": "code",
   "execution_count": 10,
   "id": "e6a52493",
   "metadata": {},
   "outputs": [],
   "source": [
    "X_train, X_test, y_train, y_test = train_test_split(X_use, y_use, test_size = 0.1, random_state = 8, stratify = y_use)\n",
    "# X_train, X_val, y_train, y_val = train_test_split(X_train, y_train, test_size = 0.1, random_state = 8, stratify = y)"
   ]
  },
  {
   "cell_type": "code",
   "execution_count": 11,
   "id": "74f58738",
   "metadata": {},
   "outputs": [
    {
     "data": {
      "text/html": [
       "<div>\n",
       "<style scoped>\n",
       "    .dataframe tbody tr th:only-of-type {\n",
       "        vertical-align: middle;\n",
       "    }\n",
       "\n",
       "    .dataframe tbody tr th {\n",
       "        vertical-align: top;\n",
       "    }\n",
       "\n",
       "    .dataframe thead th {\n",
       "        text-align: right;\n",
       "    }\n",
       "</style>\n",
       "<table border=\"1\" class=\"dataframe\">\n",
       "  <thead>\n",
       "    <tr style=\"text-align: right;\">\n",
       "      <th></th>\n",
       "      <th>ReviewTitle</th>\n",
       "      <th>CompleteReview</th>\n",
       "      <th>Company</th>\n",
       "      <th>isCurrentEmployee</th>\n",
       "      <th>id</th>\n",
       "    </tr>\n",
       "  </thead>\n",
       "  <tbody>\n",
       "    <tr>\n",
       "      <th>56902</th>\n",
       "      <td>na</td>\n",
       "      <td>boring work life\\r learnt nothing\\r management...</td>\n",
       "      <td>Cognizant-Technology-Solutions</td>\n",
       "      <td>1</td>\n",
       "      <td>56902</td>\n",
       "    </tr>\n",
       "    <tr>\n",
       "      <th>142877</th>\n",
       "      <td>Good place for learning</td>\n",
       "      <td>good exposure to mnc environment,. better unde...</td>\n",
       "      <td>IBM</td>\n",
       "      <td>0</td>\n",
       "      <td>142877</td>\n",
       "    </tr>\n",
       "    <tr>\n",
       "      <th>732</th>\n",
       "      <td>Productive and Fun Environment</td>\n",
       "      <td>Each individual has target and if they complet...</td>\n",
       "      <td>Maersk</td>\n",
       "      <td>0</td>\n",
       "      <td>732</td>\n",
       "    </tr>\n",
       "    <tr>\n",
       "      <th>51585</th>\n",
       "      <td>Good place for work</td>\n",
       "      <td>Work culture is very good. Job security was go...</td>\n",
       "      <td>Cognizant-Technology-Solutions</td>\n",
       "      <td>1</td>\n",
       "      <td>51585</td>\n",
       "    </tr>\n",
       "    <tr>\n",
       "      <th>22881</th>\n",
       "      <td>Have Assigend task ofr vessel recorn.</td>\n",
       "      <td>I have to prepare the load list for the vessel...</td>\n",
       "      <td>Maersk</td>\n",
       "      <td>1</td>\n",
       "      <td>22881</td>\n",
       "    </tr>\n",
       "    <tr>\n",
       "      <th>...</th>\n",
       "      <td>...</td>\n",
       "      <td>...</td>\n",
       "      <td>...</td>\n",
       "      <td>...</td>\n",
       "      <td>...</td>\n",
       "    </tr>\n",
       "    <tr>\n",
       "      <th>105019</th>\n",
       "      <td>great place to work at</td>\n",
       "      <td>spent 2.5 years in accenture and loved everyda...</td>\n",
       "      <td>Accenture</td>\n",
       "      <td>0</td>\n",
       "      <td>105019</td>\n",
       "    </tr>\n",
       "    <tr>\n",
       "      <th>4199</th>\n",
       "      <td>Productive and fun place</td>\n",
       "      <td>§ Designed and developed an ETL Framework for ...</td>\n",
       "      <td>UnitedHealth-Group</td>\n",
       "      <td>0</td>\n",
       "      <td>4199</td>\n",
       "    </tr>\n",
       "    <tr>\n",
       "      <th>54943</th>\n",
       "      <td>Was Good Company but recently many changes</td>\n",
       "      <td>Was Good Company but recently many changes hap...</td>\n",
       "      <td>Cognizant-Technology-Solutions</td>\n",
       "      <td>1</td>\n",
       "      <td>54943</td>\n",
       "    </tr>\n",
       "    <tr>\n",
       "      <th>108121</th>\n",
       "      <td>Exposure to business consulting</td>\n",
       "      <td>Consulting as well as solutions - biggest stre...</td>\n",
       "      <td>Accenture</td>\n",
       "      <td>0</td>\n",
       "      <td>108121</td>\n",
       "    </tr>\n",
       "    <tr>\n",
       "      <th>97627</th>\n",
       "      <td>-</td>\n",
       "      <td>Dell is a ok company to work with, it has good...</td>\n",
       "      <td>Dell-Technologies</td>\n",
       "      <td>1</td>\n",
       "      <td>97627</td>\n",
       "    </tr>\n",
       "  </tbody>\n",
       "</table>\n",
       "<p>13068 rows × 5 columns</p>\n",
       "</div>"
      ],
      "text/plain": [
       "                                       ReviewTitle  \\\n",
       "56902                                           na   \n",
       "142877                     Good place for learning   \n",
       "732                 Productive and Fun Environment   \n",
       "51585                          Good place for work   \n",
       "22881        Have Assigend task ofr vessel recorn.   \n",
       "...                                            ...   \n",
       "105019                      great place to work at   \n",
       "4199                      Productive and fun place   \n",
       "54943   Was Good Company but recently many changes   \n",
       "108121             Exposure to business consulting   \n",
       "97627                                            -   \n",
       "\n",
       "                                           CompleteReview  \\\n",
       "56902   boring work life\\r learnt nothing\\r management...   \n",
       "142877  good exposure to mnc environment,. better unde...   \n",
       "732     Each individual has target and if they complet...   \n",
       "51585   Work culture is very good. Job security was go...   \n",
       "22881   I have to prepare the load list for the vessel...   \n",
       "...                                                   ...   \n",
       "105019  spent 2.5 years in accenture and loved everyda...   \n",
       "4199    § Designed and developed an ETL Framework for ...   \n",
       "54943   Was Good Company but recently many changes hap...   \n",
       "108121  Consulting as well as solutions - biggest stre...   \n",
       "97627   Dell is a ok company to work with, it has good...   \n",
       "\n",
       "                               Company  isCurrentEmployee      id  \n",
       "56902   Cognizant-Technology-Solutions                  1   56902  \n",
       "142877                             IBM                  0  142877  \n",
       "732                             Maersk                  0     732  \n",
       "51585   Cognizant-Technology-Solutions                  1   51585  \n",
       "22881                           Maersk                  1   22881  \n",
       "...                                ...                ...     ...  \n",
       "105019                       Accenture                  0  105019  \n",
       "4199                UnitedHealth-Group                  0    4199  \n",
       "54943   Cognizant-Technology-Solutions                  1   54943  \n",
       "108121                       Accenture                  0  108121  \n",
       "97627                Dell-Technologies                  1   97627  \n",
       "\n",
       "[13068 rows x 5 columns]"
      ]
     },
     "execution_count": 11,
     "metadata": {},
     "output_type": "execute_result"
    }
   ],
   "source": [
    "X_train['id'] = X_train.index\n",
    "X_train"
   ]
  },
  {
   "cell_type": "markdown",
   "id": "9de3233d",
   "metadata": {},
   "source": [
    "# 文本前處理"
   ]
  },
  {
   "cell_type": "code",
   "execution_count": 12,
   "id": "eda5daa3",
   "metadata": {},
   "outputs": [],
   "source": [
    "#沿用 PA1 的內容\n",
    "def syllables(word):\n",
    "    #當字尾是e時音節數會減一\n",
    "    if word.endswith(\"e\"):\n",
    "        word.replace(\"e\", \"\")\n",
    "    \n",
    "    #當字裡包含a e i o u y時，會增加音節\n",
    "    word = word.replace(\"a\", \",\")\n",
    "    word = word.replace(\"e\", \",\")\n",
    "    word = word.replace(\"i\", \",\")\n",
    "    word = word.replace(\"o\", \",\")\n",
    "    word = word.replace(\"u\", \",\")\n",
    "    word = word.replace(\"y\", \",\")\n",
    "    \n",
    "    count = word.count(\",\")\n",
    "    return count"
   ]
  },
  {
   "cell_type": "code",
   "execution_count": 13,
   "id": "dd6e2488",
   "metadata": {},
   "outputs": [],
   "source": [
    "#沿用 PA1 的內容\n",
    "def tokenization(text):\n",
    "    punctuation = [\",\", \"'\", \".\", \"?\", \"!\", \"(\", \")\", \":\", \"`\", \"``\", \"%\", \"{\", \"}\", \";\", \"*\", \"#\", \"+\", \"$\", \n",
    "                   \"\\\\\", \"/\", \"_\", \"=\", \"^\", \"&\", \"<\", \">\", \"@\", \"|\", \"[\", \"]\"]\n",
    "    for i in punctuation:\n",
    "        text = text.replace(i, \" \")\n",
    "    \n",
    "    #新增移除數字\n",
    "    numbers = [\"1\", \"2\", \"3\", \"4\", \"5\", \"6\", \"7\", \"8\", \"9\", \"0\"]\n",
    "    for j in numbers:\n",
    "        text = text.replace(j, \" \")\n",
    "    \n",
    "    text = text.replace(\"\\n\", \" \")\n",
    "    text = text.replace(\"\\t\", \" \") \n",
    "    text = text.replace(\"\\r\", \" \") \n",
    "    text = text.replace('\"', \"\")\n",
    "    \n",
    "    #檢查 hyphens\n",
    "    if \"-\" in text:\n",
    "        t = text.count(\"-\")\n",
    "        \n",
    "        #如果那個字的 hyphen 數小於2時，就會進入音節數的判斷\n",
    "        if t < 2:\n",
    "            count_syllables_word = text.split(\"-\")\n",
    "            s = syllables(count_syllables_word[0]) #計算第一個字音節\n",
    "            \n",
    "            #如果那個字的音節數小於2時，就會把字合併\n",
    "            if(s < 2): \n",
    "                text = text.replace(\"-\", \"\") #ex. co-worker --> coworker  \n",
    "            else:\n",
    "                text = text.replace(\"-\", \" \") #ex. semi-supervised --> semi supervised\n",
    "        else:\n",
    "            text = text.replace(\"-\", \" \") #ex. state-of-art --> state of art\n",
    "\n",
    "    \n",
    "    text = text.split(\" \")\n",
    "    text = list(filter(None, text)) #remove null\n",
    "    \n",
    "    return text"
   ]
  },
  {
   "cell_type": "code",
   "execution_count": 14,
   "id": "a897bd5b",
   "metadata": {},
   "outputs": [],
   "source": [
    "from nltk.stem.porter import *\n",
    "import nltk\n",
    "from nltk.corpus import stopwords\n",
    "stemmer = PorterStemmer()\n",
    "stopword_list = set(stopwords.words('english'))\n",
    "\n",
    "docID = []\n",
    "t_index = []\n",
    "term = []\n",
    "df = []\n",
    "tf = []\n",
    "\n",
    "for i in range(len(X_train)):\n",
    "    token_list = []    \n",
    "\n",
    "    token_list.extend(tokenization(X_train['CompleteReview'].iloc[i].encode('utf-8', 'ignore').decode('ascii', 'ignore')))\n",
    "    \n",
    "    #lower case\n",
    "    for j in range (len(token_list)):\n",
    "        if(isinstance(token_list[j], str)): #only string has to lower case \n",
    "            token_list[j] = token_list[j].lower()  \n",
    "    \n",
    "    #stemming\n",
    "    new_token_list = [stemmer.stem(token) for token in token_list]    \n",
    "    \n",
    "    #stopword removal\n",
    "    filtered_tokens = [token for token in new_token_list if token not in stopword_list] \n",
    "    \n",
    "    #remove strange token\n",
    "    filtered_tokens = [token for token in filtered_tokens if len(token) < 50]\n",
    "    \n",
    "    #紀錄 doc_i 中的 docID, term, tf\n",
    "    for t in filtered_tokens: \n",
    "        docID.append(X_train['id'].iloc[i])\n",
    "        term.append(t)\n",
    "        tf.append(filtered_tokens.count(t)) #tf 的平均是用原始檔案中的字數去除"
   ]
  },
  {
   "cell_type": "code",
   "execution_count": 15,
   "id": "89f383d3",
   "metadata": {},
   "outputs": [],
   "source": [
    "#step_one: 在這個步驟中將 term 跟 docID 取出\n",
    "step_one = []\n",
    "for i in range(len(term)):\n",
    "    tmp = [term[i], str(docID[i])] #[apple, 1]\n",
    "    step_one.append(tmp)"
   ]
  },
  {
   "cell_type": "code",
   "execution_count": 16,
   "id": "51cb3cf0",
   "metadata": {},
   "outputs": [
    {
     "name": "stdout",
     "output_type": "stream",
     "text": [
      "['aa' 'aaa' 'abandon' ... 'zone' 'zoveili' '~']\n",
      "[ 3  1  1 ... 18  1  1]\n"
     ]
    }
   ],
   "source": [
    "#step_two: 這個步驟中將 term 按照字母順序排列，並去除重複的字及記錄 df\n",
    "\n",
    "import numpy as np\n",
    "#sort alphabetically\n",
    "step_two = sorted(step_one, key=lambda l:l[0])\n",
    "\n",
    "step_two = np.array(step_two) #list to numpy\n",
    "\n",
    "step_two = np.unique(step_two, axis=0) #去除同一個 docID 中的相同字\n",
    "step_two = step_two.T\n",
    "t, df = np.unique(step_two[0], return_counts=True) #計算不同檔案中的相同字數量\n",
    "print(t)\n",
    "print(df)"
   ]
  },
  {
   "cell_type": "code",
   "execution_count": 17,
   "id": "18669b5f",
   "metadata": {},
   "outputs": [],
   "source": [
    "my_dic ={}\n",
    "my_dic[\"term\"] = t\n",
    "my_dic[\"df\"] = df\n",
    "my_dic[\"t_index\"] = [i for i in range (1, len(t)+1)] #給定 term index (從1開始)"
   ]
  },
  {
   "cell_type": "code",
   "execution_count": 18,
   "id": "0c350bc9",
   "metadata": {},
   "outputs": [],
   "source": [
    "#把字典的字和對應到的文件 id 取出，方便之後找字對應到的 class\n",
    "dict_ids = {}\n",
    "c = 0\n",
    "for t in step_two[0]:\n",
    "    if t in term:\n",
    "        if t not in dict_ids:\n",
    "            dict_ids[t] = list()\n",
    "        dict_ids[t].append(step_two[1,c])      \n",
    "        \n",
    "    c+=1"
   ]
  },
  {
   "cell_type": "code",
   "execution_count": 19,
   "id": "19f19be6",
   "metadata": {},
   "outputs": [],
   "source": [
    "#寫入 dictionary.txt 中\n",
    "dic = open(\"dictionary.txt\", \"w\")\n",
    "dic.write(\"t_index term df\")\n",
    "for i in range (len(my_dic[\"term\"])):\n",
    "    dic.write(\"\\n\" + str(my_dic[\"t_index\"][i]).encode('utf-8','ignore').decode(\"utf-8\") + \" \" + str(my_dic[\"term\"][i]).encode('utf-8','ignore').decode(\"utf-8\") + \" \" + str(my_dic[\"df\"][i]).encode('utf-8','ignore').decode(\"utf-8\"))\n",
    "    \n",
    "dic.close()"
   ]
  },
  {
   "cell_type": "code",
   "execution_count": 20,
   "id": "7c11442d",
   "metadata": {},
   "outputs": [],
   "source": [
    "#將 docID, term, tf, t_index, df 放到同一個 dataframe，以方便計算 tf-idf\n",
    "#dataframe for tf\n",
    "import pandas as pd\n",
    "tf_dataframe = pd.DataFrame(list(zip(docID, term, tf)), columns =['docID', 'term', 'tf'])"
   ]
  },
  {
   "cell_type": "code",
   "execution_count": 21,
   "id": "7f74a5ea",
   "metadata": {},
   "outputs": [
    {
     "data": {
      "text/html": [
       "<div>\n",
       "<style scoped>\n",
       "    .dataframe tbody tr th:only-of-type {\n",
       "        vertical-align: middle;\n",
       "    }\n",
       "\n",
       "    .dataframe tbody tr th {\n",
       "        vertical-align: top;\n",
       "    }\n",
       "\n",
       "    .dataframe thead th {\n",
       "        text-align: right;\n",
       "    }\n",
       "</style>\n",
       "<table border=\"1\" class=\"dataframe\">\n",
       "  <thead>\n",
       "    <tr style=\"text-align: right;\">\n",
       "      <th></th>\n",
       "      <th>docID</th>\n",
       "      <th>term</th>\n",
       "      <th>tf</th>\n",
       "    </tr>\n",
       "  </thead>\n",
       "  <tbody>\n",
       "    <tr>\n",
       "      <th>0</th>\n",
       "      <td>56902</td>\n",
       "      <td>bore</td>\n",
       "      <td>1</td>\n",
       "    </tr>\n",
       "    <tr>\n",
       "      <th>1</th>\n",
       "      <td>56902</td>\n",
       "      <td>work</td>\n",
       "      <td>1</td>\n",
       "    </tr>\n",
       "    <tr>\n",
       "      <th>2</th>\n",
       "      <td>56902</td>\n",
       "      <td>life</td>\n",
       "      <td>1</td>\n",
       "    </tr>\n",
       "    <tr>\n",
       "      <th>3</th>\n",
       "      <td>56902</td>\n",
       "      <td>learnt</td>\n",
       "      <td>1</td>\n",
       "    </tr>\n",
       "    <tr>\n",
       "      <th>4</th>\n",
       "      <td>56902</td>\n",
       "      <td>noth</td>\n",
       "      <td>1</td>\n",
       "    </tr>\n",
       "    <tr>\n",
       "      <th>...</th>\n",
       "      <td>...</td>\n",
       "      <td>...</td>\n",
       "      <td>...</td>\n",
       "    </tr>\n",
       "    <tr>\n",
       "      <th>292444</th>\n",
       "      <td>97627</td>\n",
       "      <td>age</td>\n",
       "      <td>1</td>\n",
       "    </tr>\n",
       "    <tr>\n",
       "      <th>292445</th>\n",
       "      <td>97627</td>\n",
       "      <td>veri</td>\n",
       "      <td>1</td>\n",
       "    </tr>\n",
       "    <tr>\n",
       "      <th>292446</th>\n",
       "      <td>97627</td>\n",
       "      <td>difficult</td>\n",
       "      <td>1</td>\n",
       "    </tr>\n",
       "    <tr>\n",
       "      <th>292447</th>\n",
       "      <td>97627</td>\n",
       "      <td>get</td>\n",
       "      <td>1</td>\n",
       "    </tr>\n",
       "    <tr>\n",
       "      <th>292448</th>\n",
       "      <td>97627</td>\n",
       "      <td>approv</td>\n",
       "      <td>1</td>\n",
       "    </tr>\n",
       "  </tbody>\n",
       "</table>\n",
       "<p>292449 rows × 3 columns</p>\n",
       "</div>"
      ],
      "text/plain": [
       "        docID       term  tf\n",
       "0       56902       bore   1\n",
       "1       56902       work   1\n",
       "2       56902       life   1\n",
       "3       56902     learnt   1\n",
       "4       56902       noth   1\n",
       "...       ...        ...  ..\n",
       "292444  97627        age   1\n",
       "292445  97627       veri   1\n",
       "292446  97627  difficult   1\n",
       "292447  97627        get   1\n",
       "292448  97627     approv   1\n",
       "\n",
       "[292449 rows x 3 columns]"
      ]
     },
     "execution_count": 21,
     "metadata": {},
     "output_type": "execute_result"
    }
   ],
   "source": [
    "tf_dataframe"
   ]
  },
  {
   "cell_type": "code",
   "execution_count": 22,
   "id": "b8231250",
   "metadata": {},
   "outputs": [],
   "source": [
    "#dataframe for dictionary\n",
    "dict_df = pd.read_csv('dictionary.txt', delimiter = \" \", keep_default_na=False)"
   ]
  },
  {
   "cell_type": "code",
   "execution_count": 23,
   "id": "8e2ef52b",
   "metadata": {},
   "outputs": [],
   "source": [
    "#join tf_dataframe with dataframes\n",
    "df3 = tf_dataframe.join(dict_df.set_index('term'), on='term')"
   ]
  },
  {
   "cell_type": "code",
   "execution_count": 24,
   "id": "fde83453",
   "metadata": {},
   "outputs": [
    {
     "data": {
      "text/html": [
       "<div>\n",
       "<style scoped>\n",
       "    .dataframe tbody tr th:only-of-type {\n",
       "        vertical-align: middle;\n",
       "    }\n",
       "\n",
       "    .dataframe tbody tr th {\n",
       "        vertical-align: top;\n",
       "    }\n",
       "\n",
       "    .dataframe thead th {\n",
       "        text-align: right;\n",
       "    }\n",
       "</style>\n",
       "<table border=\"1\" class=\"dataframe\">\n",
       "  <thead>\n",
       "    <tr style=\"text-align: right;\">\n",
       "      <th></th>\n",
       "      <th>docID</th>\n",
       "      <th>term</th>\n",
       "      <th>tf</th>\n",
       "      <th>t_index</th>\n",
       "      <th>df</th>\n",
       "    </tr>\n",
       "  </thead>\n",
       "  <tbody>\n",
       "    <tr>\n",
       "      <th>0</th>\n",
       "      <td>56902</td>\n",
       "      <td>bore</td>\n",
       "      <td>1</td>\n",
       "      <td>935</td>\n",
       "      <td>19</td>\n",
       "    </tr>\n",
       "    <tr>\n",
       "      <th>1</th>\n",
       "      <td>56902</td>\n",
       "      <td>work</td>\n",
       "      <td>1</td>\n",
       "      <td>9135</td>\n",
       "      <td>9456</td>\n",
       "    </tr>\n",
       "    <tr>\n",
       "      <th>2</th>\n",
       "      <td>56902</td>\n",
       "      <td>life</td>\n",
       "      <td>1</td>\n",
       "      <td>4818</td>\n",
       "      <td>1959</td>\n",
       "    </tr>\n",
       "    <tr>\n",
       "      <th>3</th>\n",
       "      <td>56902</td>\n",
       "      <td>learnt</td>\n",
       "      <td>1</td>\n",
       "      <td>4757</td>\n",
       "      <td>686</td>\n",
       "    </tr>\n",
       "    <tr>\n",
       "      <th>4</th>\n",
       "      <td>56902</td>\n",
       "      <td>noth</td>\n",
       "      <td>1</td>\n",
       "      <td>5613</td>\n",
       "      <td>151</td>\n",
       "    </tr>\n",
       "    <tr>\n",
       "      <th>...</th>\n",
       "      <td>...</td>\n",
       "      <td>...</td>\n",
       "      <td>...</td>\n",
       "      <td>...</td>\n",
       "      <td>...</td>\n",
       "    </tr>\n",
       "    <tr>\n",
       "      <th>292444</th>\n",
       "      <td>97627</td>\n",
       "      <td>age</td>\n",
       "      <td>1</td>\n",
       "      <td>181</td>\n",
       "      <td>23</td>\n",
       "    </tr>\n",
       "    <tr>\n",
       "      <th>292445</th>\n",
       "      <td>97627</td>\n",
       "      <td>veri</td>\n",
       "      <td>1</td>\n",
       "      <td>8821</td>\n",
       "      <td>3264</td>\n",
       "    </tr>\n",
       "    <tr>\n",
       "      <th>292446</th>\n",
       "      <td>97627</td>\n",
       "      <td>difficult</td>\n",
       "      <td>1</td>\n",
       "      <td>2186</td>\n",
       "      <td>172</td>\n",
       "    </tr>\n",
       "    <tr>\n",
       "      <th>292447</th>\n",
       "      <td>97627</td>\n",
       "      <td>get</td>\n",
       "      <td>1</td>\n",
       "      <td>3447</td>\n",
       "      <td>1253</td>\n",
       "    </tr>\n",
       "    <tr>\n",
       "      <th>292448</th>\n",
       "      <td>97627</td>\n",
       "      <td>approv</td>\n",
       "      <td>1</td>\n",
       "      <td>425</td>\n",
       "      <td>50</td>\n",
       "    </tr>\n",
       "  </tbody>\n",
       "</table>\n",
       "<p>292449 rows × 5 columns</p>\n",
       "</div>"
      ],
      "text/plain": [
       "        docID       term  tf  t_index    df\n",
       "0       56902       bore   1      935    19\n",
       "1       56902       work   1     9135  9456\n",
       "2       56902       life   1     4818  1959\n",
       "3       56902     learnt   1     4757   686\n",
       "4       56902       noth   1     5613   151\n",
       "...       ...        ...  ..      ...   ...\n",
       "292444  97627        age   1      181    23\n",
       "292445  97627       veri   1     8821  3264\n",
       "292446  97627  difficult   1     2186   172\n",
       "292447  97627        get   1     3447  1253\n",
       "292448  97627     approv   1      425    50\n",
       "\n",
       "[292449 rows x 5 columns]"
      ]
     },
     "execution_count": 24,
     "metadata": {},
     "output_type": "execute_result"
    }
   ],
   "source": [
    "df3"
   ]
  },
  {
   "cell_type": "code",
   "execution_count": 25,
   "id": "421b0a7d",
   "metadata": {},
   "outputs": [],
   "source": [
    "#先計算 tf-idf\n",
    "N = len(X_train)\n",
    "tfidf = df3['tf'] * np.log10(N / df3['df'])\n",
    "df3 = df3.assign(tf_idf = tfidf)"
   ]
  },
  {
   "cell_type": "code",
   "execution_count": 26,
   "id": "0e4e2f1e",
   "metadata": {},
   "outputs": [],
   "source": [
    "#將 tf-idf 轉為 unit vector\n",
    "new_df3 = df3.copy()\n",
    "for i in (X_train['id']):\n",
    "    #完整 vector space 大小\n",
    "    matrix = df3.shape[0]   \n",
    "    vector_space = np.zeros(matrix)\n",
    "    rows = df3.loc[df3['docID'] == i]\n",
    "    \n",
    "    #取出對應的 docID 的 vector 後算距離\n",
    "    vector_space[rows['t_index']] = rows['tf_idf']\n",
    "    new_tfidf = rows.iloc[:, 5] / np.linalg.norm(vector_space)\n",
    "    \n",
    "    #改成 unit vector\n",
    "    new_df3.loc[new_df3['docID'] == i, 'tf_idf'] = new_tfidf"
   ]
  },
  {
   "cell_type": "code",
   "execution_count": 27,
   "id": "fae63395",
   "metadata": {},
   "outputs": [
    {
     "data": {
      "text/html": [
       "<div>\n",
       "<style scoped>\n",
       "    .dataframe tbody tr th:only-of-type {\n",
       "        vertical-align: middle;\n",
       "    }\n",
       "\n",
       "    .dataframe tbody tr th {\n",
       "        vertical-align: top;\n",
       "    }\n",
       "\n",
       "    .dataframe thead th {\n",
       "        text-align: right;\n",
       "    }\n",
       "</style>\n",
       "<table border=\"1\" class=\"dataframe\">\n",
       "  <thead>\n",
       "    <tr style=\"text-align: right;\">\n",
       "      <th></th>\n",
       "      <th>docID</th>\n",
       "      <th>term</th>\n",
       "      <th>tf</th>\n",
       "      <th>t_index</th>\n",
       "      <th>df</th>\n",
       "      <th>tf_idf</th>\n",
       "    </tr>\n",
       "  </thead>\n",
       "  <tbody>\n",
       "    <tr>\n",
       "      <th>0</th>\n",
       "      <td>56902</td>\n",
       "      <td>bore</td>\n",
       "      <td>1</td>\n",
       "      <td>935</td>\n",
       "      <td>19</td>\n",
       "      <td>0.304721</td>\n",
       "    </tr>\n",
       "    <tr>\n",
       "      <th>1</th>\n",
       "      <td>56902</td>\n",
       "      <td>work</td>\n",
       "      <td>1</td>\n",
       "      <td>9135</td>\n",
       "      <td>9456</td>\n",
       "      <td>0.015089</td>\n",
       "    </tr>\n",
       "    <tr>\n",
       "      <th>2</th>\n",
       "      <td>56902</td>\n",
       "      <td>life</td>\n",
       "      <td>1</td>\n",
       "      <td>4818</td>\n",
       "      <td>1959</td>\n",
       "      <td>0.088510</td>\n",
       "    </tr>\n",
       "    <tr>\n",
       "      <th>3</th>\n",
       "      <td>56902</td>\n",
       "      <td>learnt</td>\n",
       "      <td>1</td>\n",
       "      <td>4757</td>\n",
       "      <td>686</td>\n",
       "      <td>0.137450</td>\n",
       "    </tr>\n",
       "    <tr>\n",
       "      <th>4</th>\n",
       "      <td>56902</td>\n",
       "      <td>noth</td>\n",
       "      <td>1</td>\n",
       "      <td>5613</td>\n",
       "      <td>151</td>\n",
       "      <td>0.208044</td>\n",
       "    </tr>\n",
       "    <tr>\n",
       "      <th>...</th>\n",
       "      <td>...</td>\n",
       "      <td>...</td>\n",
       "      <td>...</td>\n",
       "      <td>...</td>\n",
       "      <td>...</td>\n",
       "      <td>...</td>\n",
       "    </tr>\n",
       "    <tr>\n",
       "      <th>292444</th>\n",
       "      <td>97627</td>\n",
       "      <td>age</td>\n",
       "      <td>1</td>\n",
       "      <td>181</td>\n",
       "      <td>23</td>\n",
       "      <td>0.438715</td>\n",
       "    </tr>\n",
       "    <tr>\n",
       "      <th>292445</th>\n",
       "      <td>97627</td>\n",
       "      <td>veri</td>\n",
       "      <td>1</td>\n",
       "      <td>8821</td>\n",
       "      <td>3264</td>\n",
       "      <td>0.095956</td>\n",
       "    </tr>\n",
       "    <tr>\n",
       "      <th>292446</th>\n",
       "      <td>97627</td>\n",
       "      <td>difficult</td>\n",
       "      <td>1</td>\n",
       "      <td>2186</td>\n",
       "      <td>172</td>\n",
       "      <td>0.299542</td>\n",
       "    </tr>\n",
       "    <tr>\n",
       "      <th>292447</th>\n",
       "      <td>97627</td>\n",
       "      <td>get</td>\n",
       "      <td>1</td>\n",
       "      <td>3447</td>\n",
       "      <td>1253</td>\n",
       "      <td>0.162181</td>\n",
       "    </tr>\n",
       "    <tr>\n",
       "      <th>292448</th>\n",
       "      <td>97627</td>\n",
       "      <td>approv</td>\n",
       "      <td>1</td>\n",
       "      <td>425</td>\n",
       "      <td>50</td>\n",
       "      <td>0.385002</td>\n",
       "    </tr>\n",
       "  </tbody>\n",
       "</table>\n",
       "<p>292449 rows × 6 columns</p>\n",
       "</div>"
      ],
      "text/plain": [
       "        docID       term  tf  t_index    df    tf_idf\n",
       "0       56902       bore   1      935    19  0.304721\n",
       "1       56902       work   1     9135  9456  0.015089\n",
       "2       56902       life   1     4818  1959  0.088510\n",
       "3       56902     learnt   1     4757   686  0.137450\n",
       "4       56902       noth   1     5613   151  0.208044\n",
       "...       ...        ...  ..      ...   ...       ...\n",
       "292444  97627        age   1      181    23  0.438715\n",
       "292445  97627       veri   1     8821  3264  0.095956\n",
       "292446  97627  difficult   1     2186   172  0.299542\n",
       "292447  97627        get   1     3447  1253  0.162181\n",
       "292448  97627     approv   1      425    50  0.385002\n",
       "\n",
       "[292449 rows x 6 columns]"
      ]
     },
     "execution_count": 27,
     "metadata": {},
     "output_type": "execute_result"
    }
   ],
   "source": [
    "new_df3"
   ]
  },
  {
   "cell_type": "markdown",
   "id": "f2ed1688",
   "metadata": {},
   "source": [
    "# Normalized TF-IDF DataFrame 整理"
   ]
  },
  {
   "cell_type": "code",
   "execution_count": 28,
   "id": "3f26891e",
   "metadata": {},
   "outputs": [
    {
     "data": {
      "text/plain": [
       "9289"
      ]
     },
     "execution_count": 28,
     "metadata": {},
     "output_type": "execute_result"
    }
   ],
   "source": [
    "# 字典的字\n",
    "terms = sorted(set(new_df3['term']))\n",
    "len(terms)"
   ]
  },
  {
   "cell_type": "code",
   "execution_count": 29,
   "id": "6bbe8530",
   "metadata": {},
   "outputs": [
    {
     "data": {
      "text/plain": [
       "13065"
      ]
     },
     "execution_count": 29,
     "metadata": {},
     "output_type": "execute_result"
    }
   ],
   "source": [
    "# 評論 ID\n",
    "doc_IDs = sorted(set(new_df3['docID']))\n",
    "len(doc_IDs)"
   ]
  },
  {
   "cell_type": "code",
   "execution_count": 30,
   "id": "8fcec731",
   "metadata": {},
   "outputs": [
    {
     "ename": "KeyboardInterrupt",
     "evalue": "",
     "output_type": "error",
     "traceback": [
      "\u001b[1;31m---------------------------------------------------------------------------\u001b[0m",
      "\u001b[1;31mKeyboardInterrupt\u001b[0m                         Traceback (most recent call last)",
      "\u001b[1;32mC:\\Users\\CHENPO~1\\AppData\\Local\\Temp/ipykernel_21088/689767354.py\u001b[0m in \u001b[0;36m<module>\u001b[1;34m\u001b[0m\n\u001b[0;32m     11\u001b[0m             \u001b[0mnormalized_TFIDF_matrix\u001b[0m\u001b[1;33m.\u001b[0m\u001b[0mat\u001b[0m\u001b[1;33m[\u001b[0m\u001b[0mi\u001b[0m\u001b[1;33m,\u001b[0m \u001b[0mt\u001b[0m\u001b[1;33m]\u001b[0m \u001b[1;33m=\u001b[0m \u001b[1;36m0.\u001b[0m\u001b[1;33m\u001b[0m\u001b[1;33m\u001b[0m\u001b[0m\n\u001b[0;32m     12\u001b[0m         \u001b[1;32melse\u001b[0m\u001b[1;33m:\u001b[0m\u001b[1;33m\u001b[0m\u001b[1;33m\u001b[0m\u001b[0m\n\u001b[1;32m---> 13\u001b[1;33m             \u001b[0mnormalized_TFIDF_matrix\u001b[0m\u001b[1;33m.\u001b[0m\u001b[0mat\u001b[0m\u001b[1;33m[\u001b[0m\u001b[0mi\u001b[0m\u001b[1;33m,\u001b[0m \u001b[0mt\u001b[0m\u001b[1;33m]\u001b[0m \u001b[1;33m=\u001b[0m \u001b[0mnew_df3\u001b[0m\u001b[1;33m[\u001b[0m\u001b[1;33m(\u001b[0m\u001b[0mnew_df3\u001b[0m\u001b[1;33m[\u001b[0m\u001b[1;34m'docID'\u001b[0m\u001b[1;33m]\u001b[0m \u001b[1;33m==\u001b[0m \u001b[0mi\u001b[0m\u001b[1;33m)\u001b[0m \u001b[1;33m&\u001b[0m \u001b[1;33m(\u001b[0m\u001b[0mnew_df3\u001b[0m\u001b[1;33m[\u001b[0m\u001b[1;34m'term'\u001b[0m\u001b[1;33m]\u001b[0m \u001b[1;33m==\u001b[0m \u001b[0mt\u001b[0m\u001b[1;33m)\u001b[0m\u001b[1;33m]\u001b[0m\u001b[1;33m.\u001b[0m\u001b[0mtf_idf\u001b[0m\u001b[1;33m.\u001b[0m\u001b[0mvalues\u001b[0m\u001b[1;33m[\u001b[0m\u001b[1;36m0\u001b[0m\u001b[1;33m]\u001b[0m\u001b[1;33m\u001b[0m\u001b[1;33m\u001b[0m\u001b[0m\n\u001b[0m\u001b[0;32m     14\u001b[0m \u001b[1;33m\u001b[0m\u001b[0m\n\u001b[0;32m     15\u001b[0m \u001b[0mnormalized_TFIDF_matrix\u001b[0m\u001b[1;33m\u001b[0m\u001b[1;33m\u001b[0m\u001b[0m\n",
      "\u001b[1;32m~\\anaconda3\\lib\\site-packages\\pandas\\core\\ops\\common.py\u001b[0m in \u001b[0;36mnew_method\u001b[1;34m(self, other)\u001b[0m\n\u001b[0;32m     67\u001b[0m         \u001b[0mother\u001b[0m \u001b[1;33m=\u001b[0m \u001b[0mitem_from_zerodim\u001b[0m\u001b[1;33m(\u001b[0m\u001b[0mother\u001b[0m\u001b[1;33m)\u001b[0m\u001b[1;33m\u001b[0m\u001b[1;33m\u001b[0m\u001b[0m\n\u001b[0;32m     68\u001b[0m \u001b[1;33m\u001b[0m\u001b[0m\n\u001b[1;32m---> 69\u001b[1;33m         \u001b[1;32mreturn\u001b[0m \u001b[0mmethod\u001b[0m\u001b[1;33m(\u001b[0m\u001b[0mself\u001b[0m\u001b[1;33m,\u001b[0m \u001b[0mother\u001b[0m\u001b[1;33m)\u001b[0m\u001b[1;33m\u001b[0m\u001b[1;33m\u001b[0m\u001b[0m\n\u001b[0m\u001b[0;32m     70\u001b[0m \u001b[1;33m\u001b[0m\u001b[0m\n\u001b[0;32m     71\u001b[0m     \u001b[1;32mreturn\u001b[0m \u001b[0mnew_method\u001b[0m\u001b[1;33m\u001b[0m\u001b[1;33m\u001b[0m\u001b[0m\n",
      "\u001b[1;32m~\\anaconda3\\lib\\site-packages\\pandas\\core\\arraylike.py\u001b[0m in \u001b[0;36m__eq__\u001b[1;34m(self, other)\u001b[0m\n\u001b[0;32m     30\u001b[0m     \u001b[1;33m@\u001b[0m\u001b[0munpack_zerodim_and_defer\u001b[0m\u001b[1;33m(\u001b[0m\u001b[1;34m\"__eq__\"\u001b[0m\u001b[1;33m)\u001b[0m\u001b[1;33m\u001b[0m\u001b[1;33m\u001b[0m\u001b[0m\n\u001b[0;32m     31\u001b[0m     \u001b[1;32mdef\u001b[0m \u001b[0m__eq__\u001b[0m\u001b[1;33m(\u001b[0m\u001b[0mself\u001b[0m\u001b[1;33m,\u001b[0m \u001b[0mother\u001b[0m\u001b[1;33m)\u001b[0m\u001b[1;33m:\u001b[0m\u001b[1;33m\u001b[0m\u001b[1;33m\u001b[0m\u001b[0m\n\u001b[1;32m---> 32\u001b[1;33m         \u001b[1;32mreturn\u001b[0m \u001b[0mself\u001b[0m\u001b[1;33m.\u001b[0m\u001b[0m_cmp_method\u001b[0m\u001b[1;33m(\u001b[0m\u001b[0mother\u001b[0m\u001b[1;33m,\u001b[0m \u001b[0moperator\u001b[0m\u001b[1;33m.\u001b[0m\u001b[0meq\u001b[0m\u001b[1;33m)\u001b[0m\u001b[1;33m\u001b[0m\u001b[1;33m\u001b[0m\u001b[0m\n\u001b[0m\u001b[0;32m     33\u001b[0m \u001b[1;33m\u001b[0m\u001b[0m\n\u001b[0;32m     34\u001b[0m     \u001b[1;33m@\u001b[0m\u001b[0munpack_zerodim_and_defer\u001b[0m\u001b[1;33m(\u001b[0m\u001b[1;34m\"__ne__\"\u001b[0m\u001b[1;33m)\u001b[0m\u001b[1;33m\u001b[0m\u001b[1;33m\u001b[0m\u001b[0m\n",
      "\u001b[1;32m~\\anaconda3\\lib\\site-packages\\pandas\\core\\series.py\u001b[0m in \u001b[0;36m_cmp_method\u001b[1;34m(self, other, op)\u001b[0m\n\u001b[0;32m   5500\u001b[0m \u001b[1;33m\u001b[0m\u001b[0m\n\u001b[0;32m   5501\u001b[0m         \u001b[1;32mwith\u001b[0m \u001b[0mnp\u001b[0m\u001b[1;33m.\u001b[0m\u001b[0merrstate\u001b[0m\u001b[1;33m(\u001b[0m\u001b[0mall\u001b[0m\u001b[1;33m=\u001b[0m\u001b[1;34m\"ignore\"\u001b[0m\u001b[1;33m)\u001b[0m\u001b[1;33m:\u001b[0m\u001b[1;33m\u001b[0m\u001b[1;33m\u001b[0m\u001b[0m\n\u001b[1;32m-> 5502\u001b[1;33m             \u001b[0mres_values\u001b[0m \u001b[1;33m=\u001b[0m \u001b[0mops\u001b[0m\u001b[1;33m.\u001b[0m\u001b[0mcomparison_op\u001b[0m\u001b[1;33m(\u001b[0m\u001b[0mlvalues\u001b[0m\u001b[1;33m,\u001b[0m \u001b[0mrvalues\u001b[0m\u001b[1;33m,\u001b[0m \u001b[0mop\u001b[0m\u001b[1;33m)\u001b[0m\u001b[1;33m\u001b[0m\u001b[1;33m\u001b[0m\u001b[0m\n\u001b[0m\u001b[0;32m   5503\u001b[0m \u001b[1;33m\u001b[0m\u001b[0m\n\u001b[0;32m   5504\u001b[0m         \u001b[1;32mreturn\u001b[0m \u001b[0mself\u001b[0m\u001b[1;33m.\u001b[0m\u001b[0m_construct_result\u001b[0m\u001b[1;33m(\u001b[0m\u001b[0mres_values\u001b[0m\u001b[1;33m,\u001b[0m \u001b[0mname\u001b[0m\u001b[1;33m=\u001b[0m\u001b[0mres_name\u001b[0m\u001b[1;33m)\u001b[0m\u001b[1;33m\u001b[0m\u001b[1;33m\u001b[0m\u001b[0m\n",
      "\u001b[1;32m~\\anaconda3\\lib\\site-packages\\pandas\\core\\ops\\array_ops.py\u001b[0m in \u001b[0;36mcomparison_op\u001b[1;34m(left, right, op)\u001b[0m\n\u001b[0;32m    285\u001b[0m \u001b[1;33m\u001b[0m\u001b[0m\n\u001b[0;32m    286\u001b[0m     \u001b[1;32melse\u001b[0m\u001b[1;33m:\u001b[0m\u001b[1;33m\u001b[0m\u001b[1;33m\u001b[0m\u001b[0m\n\u001b[1;32m--> 287\u001b[1;33m         \u001b[0mres_values\u001b[0m \u001b[1;33m=\u001b[0m \u001b[0m_na_arithmetic_op\u001b[0m\u001b[1;33m(\u001b[0m\u001b[0mlvalues\u001b[0m\u001b[1;33m,\u001b[0m \u001b[0mrvalues\u001b[0m\u001b[1;33m,\u001b[0m \u001b[0mop\u001b[0m\u001b[1;33m,\u001b[0m \u001b[0mis_cmp\u001b[0m\u001b[1;33m=\u001b[0m\u001b[1;32mTrue\u001b[0m\u001b[1;33m)\u001b[0m\u001b[1;33m\u001b[0m\u001b[1;33m\u001b[0m\u001b[0m\n\u001b[0m\u001b[0;32m    288\u001b[0m \u001b[1;33m\u001b[0m\u001b[0m\n\u001b[0;32m    289\u001b[0m     \u001b[1;32mreturn\u001b[0m \u001b[0mres_values\u001b[0m\u001b[1;33m\u001b[0m\u001b[1;33m\u001b[0m\u001b[0m\n",
      "\u001b[1;32m~\\anaconda3\\lib\\site-packages\\pandas\\core\\ops\\array_ops.py\u001b[0m in \u001b[0;36m_na_arithmetic_op\u001b[1;34m(left, right, op, is_cmp)\u001b[0m\n\u001b[0;32m    164\u001b[0m \u001b[1;33m\u001b[0m\u001b[0m\n\u001b[0;32m    165\u001b[0m     \u001b[1;32mtry\u001b[0m\u001b[1;33m:\u001b[0m\u001b[1;33m\u001b[0m\u001b[1;33m\u001b[0m\u001b[0m\n\u001b[1;32m--> 166\u001b[1;33m         \u001b[0mresult\u001b[0m \u001b[1;33m=\u001b[0m \u001b[0mfunc\u001b[0m\u001b[1;33m(\u001b[0m\u001b[0mleft\u001b[0m\u001b[1;33m,\u001b[0m \u001b[0mright\u001b[0m\u001b[1;33m)\u001b[0m\u001b[1;33m\u001b[0m\u001b[1;33m\u001b[0m\u001b[0m\n\u001b[0m\u001b[0;32m    167\u001b[0m     \u001b[1;32mexcept\u001b[0m \u001b[0mTypeError\u001b[0m\u001b[1;33m:\u001b[0m\u001b[1;33m\u001b[0m\u001b[1;33m\u001b[0m\u001b[0m\n\u001b[0;32m    168\u001b[0m         \u001b[1;32mif\u001b[0m \u001b[0mis_object_dtype\u001b[0m\u001b[1;33m(\u001b[0m\u001b[0mleft\u001b[0m\u001b[1;33m)\u001b[0m \u001b[1;32mor\u001b[0m \u001b[0mis_object_dtype\u001b[0m\u001b[1;33m(\u001b[0m\u001b[0mright\u001b[0m\u001b[1;33m)\u001b[0m \u001b[1;32mand\u001b[0m \u001b[1;32mnot\u001b[0m \u001b[0mis_cmp\u001b[0m\u001b[1;33m:\u001b[0m\u001b[1;33m\u001b[0m\u001b[1;33m\u001b[0m\u001b[0m\n",
      "\u001b[1;32m~\\anaconda3\\lib\\site-packages\\pandas\\core\\computation\\expressions.py\u001b[0m in \u001b[0;36mevaluate\u001b[1;34m(op, a, b, use_numexpr)\u001b[0m\n\u001b[0;32m    237\u001b[0m         \u001b[1;32mif\u001b[0m \u001b[0muse_numexpr\u001b[0m\u001b[1;33m:\u001b[0m\u001b[1;33m\u001b[0m\u001b[1;33m\u001b[0m\u001b[0m\n\u001b[0;32m    238\u001b[0m             \u001b[1;31m# error: \"None\" not callable\u001b[0m\u001b[1;33m\u001b[0m\u001b[1;33m\u001b[0m\u001b[0m\n\u001b[1;32m--> 239\u001b[1;33m             \u001b[1;32mreturn\u001b[0m \u001b[0m_evaluate\u001b[0m\u001b[1;33m(\u001b[0m\u001b[0mop\u001b[0m\u001b[1;33m,\u001b[0m \u001b[0mop_str\u001b[0m\u001b[1;33m,\u001b[0m \u001b[0ma\u001b[0m\u001b[1;33m,\u001b[0m \u001b[0mb\u001b[0m\u001b[1;33m)\u001b[0m  \u001b[1;31m# type: ignore[misc]\u001b[0m\u001b[1;33m\u001b[0m\u001b[1;33m\u001b[0m\u001b[0m\n\u001b[0m\u001b[0;32m    240\u001b[0m     \u001b[1;32mreturn\u001b[0m \u001b[0m_evaluate_standard\u001b[0m\u001b[1;33m(\u001b[0m\u001b[0mop\u001b[0m\u001b[1;33m,\u001b[0m \u001b[0mop_str\u001b[0m\u001b[1;33m,\u001b[0m \u001b[0ma\u001b[0m\u001b[1;33m,\u001b[0m \u001b[0mb\u001b[0m\u001b[1;33m)\u001b[0m\u001b[1;33m\u001b[0m\u001b[1;33m\u001b[0m\u001b[0m\n\u001b[0;32m    241\u001b[0m \u001b[1;33m\u001b[0m\u001b[0m\n",
      "\u001b[1;32m~\\anaconda3\\lib\\site-packages\\pandas\\core\\computation\\expressions.py\u001b[0m in \u001b[0;36m_evaluate_numexpr\u001b[1;34m(op, op_str, a, b)\u001b[0m\n\u001b[0;32m    126\u001b[0m \u001b[1;33m\u001b[0m\u001b[0m\n\u001b[0;32m    127\u001b[0m     \u001b[1;32mif\u001b[0m \u001b[0mresult\u001b[0m \u001b[1;32mis\u001b[0m \u001b[1;32mNone\u001b[0m\u001b[1;33m:\u001b[0m\u001b[1;33m\u001b[0m\u001b[1;33m\u001b[0m\u001b[0m\n\u001b[1;32m--> 128\u001b[1;33m         \u001b[0mresult\u001b[0m \u001b[1;33m=\u001b[0m \u001b[0m_evaluate_standard\u001b[0m\u001b[1;33m(\u001b[0m\u001b[0mop\u001b[0m\u001b[1;33m,\u001b[0m \u001b[0mop_str\u001b[0m\u001b[1;33m,\u001b[0m \u001b[0ma\u001b[0m\u001b[1;33m,\u001b[0m \u001b[0mb\u001b[0m\u001b[1;33m)\u001b[0m\u001b[1;33m\u001b[0m\u001b[1;33m\u001b[0m\u001b[0m\n\u001b[0m\u001b[0;32m    129\u001b[0m \u001b[1;33m\u001b[0m\u001b[0m\n\u001b[0;32m    130\u001b[0m     \u001b[1;32mreturn\u001b[0m \u001b[0mresult\u001b[0m\u001b[1;33m\u001b[0m\u001b[1;33m\u001b[0m\u001b[0m\n",
      "\u001b[1;32m~\\anaconda3\\lib\\site-packages\\pandas\\core\\computation\\expressions.py\u001b[0m in \u001b[0;36m_evaluate_standard\u001b[1;34m(op, op_str, a, b)\u001b[0m\n\u001b[0;32m     67\u001b[0m     \u001b[1;32mif\u001b[0m \u001b[0m_TEST_MODE\u001b[0m\u001b[1;33m:\u001b[0m\u001b[1;33m\u001b[0m\u001b[1;33m\u001b[0m\u001b[0m\n\u001b[0;32m     68\u001b[0m         \u001b[0m_store_test_result\u001b[0m\u001b[1;33m(\u001b[0m\u001b[1;32mFalse\u001b[0m\u001b[1;33m)\u001b[0m\u001b[1;33m\u001b[0m\u001b[1;33m\u001b[0m\u001b[0m\n\u001b[1;32m---> 69\u001b[1;33m     \u001b[1;32mreturn\u001b[0m \u001b[0mop\u001b[0m\u001b[1;33m(\u001b[0m\u001b[0ma\u001b[0m\u001b[1;33m,\u001b[0m \u001b[0mb\u001b[0m\u001b[1;33m)\u001b[0m\u001b[1;33m\u001b[0m\u001b[1;33m\u001b[0m\u001b[0m\n\u001b[0m\u001b[0;32m     70\u001b[0m \u001b[1;33m\u001b[0m\u001b[0m\n\u001b[0;32m     71\u001b[0m \u001b[1;33m\u001b[0m\u001b[0m\n",
      "\u001b[1;31mKeyboardInterrupt\u001b[0m: "
     ]
    }
   ],
   "source": [
    "# 轉成 normalized TF-IDF matrix\n",
    "\n",
    "normalized_TFIDF_matrix = pd.DataFrame(columns = terms, index = doc_IDs)\n",
    "\n",
    "for i in doc_IDs:\n",
    "    \n",
    "    terms_of_docID = new_df3[new_df3['docID'] == i].term.values\n",
    "    \n",
    "    for t in terms:\n",
    "        if t not in terms_of_docID:\n",
    "            normalized_TFIDF_matrix.at[i, t] = 0.\n",
    "        else:\n",
    "            normalized_TFIDF_matrix.at[i, t] = new_df3[(new_df3['docID'] == i) & (new_df3['term'] == t)].tf_idf.values[0]\n",
    "\n",
    "normalized_TFIDF_matrix"
   ]
  },
  {
   "cell_type": "markdown",
   "id": "f66a161e",
   "metadata": {},
   "source": [
    "# 降維：SVD"
   ]
  },
  {
   "cell_type": "code",
   "execution_count": null,
   "id": "e4126854",
   "metadata": {},
   "outputs": [],
   "source": [
    "# SVD (10 個 topic)\n",
    "\n",
    "from sklearn.decomposition import TruncatedSVD\n",
    "\n",
    "model_SVD = TruncatedSVD(n_components = 10)\n",
    "vectors_SVD = model_SVD.fit_transform(normalized_TFIDF_matrix)"
   ]
  },
  {
   "cell_type": "code",
   "execution_count": null,
   "id": "02d4cd80",
   "metadata": {},
   "outputs": [],
   "source": [
    "vectors_SVD"
   ]
  },
  {
   "cell_type": "code",
   "execution_count": null,
   "id": "67e06e3f",
   "metadata": {},
   "outputs": [],
   "source": [
    "df_copy"
   ]
  },
  {
   "cell_type": "code",
   "execution_count": null,
   "id": "f953bf7a",
   "metadata": {},
   "outputs": [],
   "source": [
    "y = [df_copy[i,'Rating'] for i in doc_IDs]\n",
    "X_train_vectors, X_val_vectors, y_train, y_val = train_test_split(vectors_SVD, y, test_size = 0.1, random_state = 8)"
   ]
  },
  {
   "cell_type": "code",
   "execution_count": null,
   "id": "fa9955a4",
   "metadata": {},
   "outputs": [],
   "source": [
    "from sklearn.metrics import classification_report\n",
    "from sklearn.ensemble import RandomForestClassifier\n",
    "\n",
    "rf = RandomForestClassifier()\n",
    "rf.fit(X_train_vectors, y_train_vectors)\n",
    "y_pred = rf.predict(X_val_vectors)"
   ]
  },
  {
   "cell_type": "code",
   "execution_count": null,
   "id": "5fc9c028",
   "metadata": {},
   "outputs": [],
   "source": [
    "print(classification_report(y_val_vectors, y_pred))"
   ]
  },
  {
   "cell_type": "code",
   "execution_count": null,
   "id": "db8a2b92",
   "metadata": {},
   "outputs": [],
   "source": [
    "from xgboost import XGBClassifier\n",
    "\n",
    "xgb = XGBClassifier()\n",
    "xgb.fit(X_train_vectors, y_train_vectors)\n",
    "y_pred = xgb.predict(X_val_vectors)"
   ]
  },
  {
   "cell_type": "code",
   "execution_count": null,
   "id": "cb0216b3",
   "metadata": {},
   "outputs": [],
   "source": [
    "print(classification_report(y_val_vectors, y_pred))"
   ]
  },
  {
   "cell_type": "code",
   "execution_count": null,
   "id": "b22e5810",
   "metadata": {},
   "outputs": [],
   "source": [
    "from sklearn.svm import SVC\n",
    "\n",
    "clf = SVC(kernel = 'linear')\n",
    "clf.fit(X_train_vectors, y_train_vectors)\n",
    "y_pred = clf.predict(X_val_vectors)"
   ]
  },
  {
   "cell_type": "code",
   "execution_count": null,
   "id": "e767e85e",
   "metadata": {},
   "outputs": [],
   "source": [
    "print(classification_report(y_val_vectors, y_pred))"
   ]
  },
  {
   "cell_type": "markdown",
   "id": "8aa579df",
   "metadata": {},
   "source": [
    "# TF 向量處理"
   ]
  },
  {
   "cell_type": "code",
   "execution_count": null,
   "id": "055d38d3",
   "metadata": {},
   "outputs": [],
   "source": [
    "# 轉成 TF 向量\n",
    "\n",
    "TF_matrix = pd.DataFrame(columns = terms, index = doc_IDs)\n",
    "\n",
    "for i in doc_IDs:\n",
    "    \n",
    "    terms_of_docID = new_df3[new_df3['docID'] == i].term.values\n",
    "    \n",
    "    for t in terms:\n",
    "        if t not in terms_of_docID:\n",
    "            TF_matrix.at[i, t] = 0\n",
    "        else:\n",
    "            TF_matrix.at[i, t] = new_df3[(new_df3['docID'] == i) & (new_df3['term'] == t)].tf.values[0]"
   ]
  },
  {
   "cell_type": "markdown",
   "id": "d18c657d",
   "metadata": {},
   "source": [
    "# 降維：LDA"
   ]
  },
  {
   "cell_type": "code",
   "execution_count": null,
   "id": "6ef074e6",
   "metadata": {},
   "outputs": [],
   "source": [
    "# LDA (10 個 topic)\n",
    "\n",
    "from sklearn.decomposition import LatentDirichletAllocation as LDA\n",
    "\n",
    "model_LDA = LDA(n_components = 10)\n",
    "vectors_LDA = model_LDA.fit_transform(TF_matrix)"
   ]
  },
  {
   "cell_type": "code",
   "execution_count": null,
   "id": "bd179723",
   "metadata": {},
   "outputs": [],
   "source": [
    "vectors_LDA"
   ]
  },
  {
   "cell_type": "code",
   "execution_count": null,
   "id": "a04d1d32",
   "metadata": {},
   "outputs": [],
   "source": [
    "y = [df_copy[i,'Rating'] for i in doc_IDs]\n",
    "X_train_vectors, X_val_vectors, y_train, y_val = train_test_split(vectors_LDA, y, test_size = 0.1, random_state = 8)"
   ]
  },
  {
   "cell_type": "code",
   "execution_count": null,
   "id": "d29c058e",
   "metadata": {},
   "outputs": [],
   "source": [
    "X_train_vectors, X_val_vectors, y_train, y_val = train_test_split(vectors_LDA, y_use, test_size = 0.1, random_state = 8)"
   ]
  },
  {
   "cell_type": "code",
   "execution_count": null,
   "id": "b17ccddb",
   "metadata": {},
   "outputs": [],
   "source": [
    "from sklearn.metrics import classification_report\n",
    "from sklearn.ensemble import RandomForestClassifier\n",
    "\n",
    "rf = RandomForestClassifier()\n",
    "rf.fit(X_train_vectors, y_train_vectors)\n",
    "y_pred = rf.predict(X_val_vectors)"
   ]
  },
  {
   "cell_type": "code",
   "execution_count": null,
   "id": "a400af45",
   "metadata": {},
   "outputs": [],
   "source": [
    "print(classification_report(y_val_vectors, y_pred))"
   ]
  },
  {
   "cell_type": "code",
   "execution_count": null,
   "id": "d9911dfe",
   "metadata": {},
   "outputs": [],
   "source": [
    "from xgboost import XGBClassifier\n",
    "\n",
    "xgb = XGBClassifier()\n",
    "xgb.fit(X_train_vectors, y_train_vectors)\n",
    "y_pred = xgb.predict(X_val_vectors)"
   ]
  },
  {
   "cell_type": "code",
   "execution_count": null,
   "id": "c6f241d8",
   "metadata": {},
   "outputs": [],
   "source": [
    "print(classification_report(y_val_vectors, y_pred))"
   ]
  },
  {
   "cell_type": "code",
   "execution_count": null,
   "id": "969725fa",
   "metadata": {},
   "outputs": [],
   "source": [
    "from sklearn.svm import SVC\n",
    "\n",
    "clf = SVC(kernel = 'linear')\n",
    "clf.fit(X_train_vectors, y_train_vectors)\n",
    "y_pred = clf.predict(X_val_vectors)"
   ]
  },
  {
   "cell_type": "code",
   "execution_count": null,
   "id": "807bcc07",
   "metadata": {},
   "outputs": [],
   "source": [
    "print(classification_report(y_val_vectors, y_pred))"
   ]
  }
 ],
 "metadata": {
  "kernelspec": {
   "display_name": "Python 3 (ipykernel)",
   "language": "python",
   "name": "python3"
  },
  "language_info": {
   "codemirror_mode": {
    "name": "ipython",
    "version": 3
   },
   "file_extension": ".py",
   "mimetype": "text/x-python",
   "name": "python",
   "nbconvert_exporter": "python",
   "pygments_lexer": "ipython3",
   "version": "3.9.7"
  }
 },
 "nbformat": 4,
 "nbformat_minor": 5
}
